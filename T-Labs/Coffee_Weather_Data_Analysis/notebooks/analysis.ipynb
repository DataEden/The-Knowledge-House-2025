{
 "cells": [
  {
   "cell_type": "markdown",
   "id": "f83443c4",
   "metadata": {},
   "source": [
    "<div style=\"border: 2px solid #ccc; border-radius: 12px; padding: 20px; max-width: 950px; margin: auto; background-color: #1e1e1e; color: #f0f0f0; font-family: Arial, sans-serif; line-height: 1.6;\">\n",
    "\n",
    "  <div style=\"text-align: center; margin-bottom: 20px;\">\n",
    "    <img src=\"../image/coffee_production_by_subdivision.png\" \n",
    "         alt=\"Coffee Production Boxplot by Subdivision\"\n",
    "         style=\"width: 80%; max-width: 100%; height: auto; border-radius: 8px; box-shadow: 0 0 10px rgba(0,0,0,0.4);\">\n",
    "  </div>\n",
    "\n",
    "  <blockquote style=\"margin: 0; padding: 10px 20px; border-left: 4px solid #4faaff;\">\n",
    "    <p><strong>\n",
    "      \"\"\n",
    "    </strong></p>\n",
    "    <p>\n",
    "      — From Coffee Dataset: \n",
    "      <a href=\"../image/coffee_production_by_subdivision.png\" target=\"_blank\" style=\"color: #4faaff;\">\n",
    "        Coffee Producing Subdivsions - Brazil Region\n",
    "      </a>\n",
    "    </p>\n",
    "  </blockquote>\n",
    "\n",
    "</div>\n"
   ]
  },
  {
   "cell_type": "markdown",
   "id": "7d39b1a1",
   "metadata": {},
   "source": [
    "# Analysis\n",
    "\n",
    "Create your own EDA below! Create as many code-blocks as you need.\n",
    "\n",
    "Once you've completed your EDA, complete the section titled **Reflections** where you will answer questions about your EDA."
   ]
  },
  {
   "cell_type": "code",
   "execution_count": 8,
   "id": "6655a736",
   "metadata": {},
   "outputs": [],
   "source": [
    "# Import necessary libraries\n",
    "from scipy.stats import pearsonr # correlation calculation\n",
    "from scipy.stats import skew # skewness calculation\n",
    "import pandas as pd # data manipulation using DataFrames\n",
    "import numpy as np # numerical operations \n",
    "\n",
    "import seaborn as sns # data visualization \n",
    "import matplotlib.pyplot as plt # data visualization\n",
    "import matplotlib.ticker as ticks # axis formatting\n",
    "import plotly.express as px # interactive plots\n",
    "import math # mathematical operations not found in numpy or native python..."
   ]
  },
  {
   "cell_type": "code",
   "execution_count": 9,
   "id": "868ea7cd",
   "metadata": {},
   "outputs": [],
   "source": [
    "# import coffee data\n",
    "coffee = pd.read_csv(\"../data/crop/coffee_output.csv\")\n",
    "# import weather data\n",
    "weather = pd.read_csv(\"../data/weather/weather_concat.csv\")"
   ]
  },
  {
   "cell_type": "code",
   "execution_count": 10,
   "id": "71bfd191",
   "metadata": {},
   "outputs": [],
   "source": [
    "# TODO: Merge these two dataframes together \n",
    "weather_merged = weather.merge(coffee, how='inner', left_on='year', right_on='year')\n"
   ]
  },
  {
   "cell_type": "code",
   "execution_count": 11,
   "id": "44f435eb",
   "metadata": {},
   "outputs": [
    {
     "data": {
      "text/html": [
       "<div>\n",
       "<style scoped>\n",
       "    .dataframe tbody tr th:only-of-type {\n",
       "        vertical-align: middle;\n",
       "    }\n",
       "\n",
       "    .dataframe tbody tr th {\n",
       "        vertical-align: top;\n",
       "    }\n",
       "\n",
       "    .dataframe thead th {\n",
       "        text-align: right;\n",
       "    }\n",
       "</style>\n",
       "<table border=\"1\" class=\"dataframe\">\n",
       "  <thead>\n",
       "    <tr style=\"text-align: right;\">\n",
       "      <th></th>\n",
       "      <th>year</th>\n",
       "      <th>rain_max</th>\n",
       "      <th>temp_avg</th>\n",
       "      <th>temp_max</th>\n",
       "      <th>temp_min</th>\n",
       "      <th>hum_max</th>\n",
       "      <th>hum_min</th>\n",
       "      <th>wind_max</th>\n",
       "      <th>wind_avg</th>\n",
       "      <th>subdivision_x</th>\n",
       "      <th>country</th>\n",
       "      <th>subdivision_y</th>\n",
       "      <th>type</th>\n",
       "      <th>60kgs_bag</th>\n",
       "      <th>nonbearing_trees</th>\n",
       "      <th>bearing_trees</th>\n",
       "      <th>nonbear_hectares</th>\n",
       "      <th>bearing_hectares</th>\n",
       "      <th>bearing_trees_per_hectare</th>\n",
       "      <th>nonbearing_trees_per_hectare</th>\n",
       "    </tr>\n",
       "  </thead>\n",
       "  <tbody>\n",
       "    <tr>\n",
       "      <th>0</th>\n",
       "      <td>2006</td>\n",
       "      <td>6.670968</td>\n",
       "      <td>21.803087</td>\n",
       "      <td>27.190323</td>\n",
       "      <td>18.654839</td>\n",
       "      <td>97.129032</td>\n",
       "      <td>57.806452</td>\n",
       "      <td>9.706452</td>\n",
       "      <td>2.075207</td>\n",
       "      <td>Minas Gerais</td>\n",
       "      <td>Brazil</td>\n",
       "      <td>Minas Gerais</td>\n",
       "      <td>Arabica</td>\n",
       "      <td>16.3</td>\n",
       "      <td>581.0</td>\n",
       "      <td>5330.0</td>\n",
       "      <td>175.0</td>\n",
       "      <td>2298.0</td>\n",
       "      <td>2319.0</td>\n",
       "      <td>3320.0</td>\n",
       "    </tr>\n",
       "    <tr>\n",
       "      <th>1</th>\n",
       "      <td>2006</td>\n",
       "      <td>6.670968</td>\n",
       "      <td>21.803087</td>\n",
       "      <td>27.190323</td>\n",
       "      <td>18.654839</td>\n",
       "      <td>97.129032</td>\n",
       "      <td>57.806452</td>\n",
       "      <td>9.706452</td>\n",
       "      <td>2.075207</td>\n",
       "      <td>Minas Gerais</td>\n",
       "      <td>Brazil</td>\n",
       "      <td>Espirito Santo</td>\n",
       "      <td>Arabica</td>\n",
       "      <td>2.2</td>\n",
       "      <td>581.0</td>\n",
       "      <td>5330.0</td>\n",
       "      <td>175.0</td>\n",
       "      <td>2298.0</td>\n",
       "      <td>2319.0</td>\n",
       "      <td>3320.0</td>\n",
       "    </tr>\n",
       "    <tr>\n",
       "      <th>2</th>\n",
       "      <td>2006</td>\n",
       "      <td>6.670968</td>\n",
       "      <td>21.803087</td>\n",
       "      <td>27.190323</td>\n",
       "      <td>18.654839</td>\n",
       "      <td>97.129032</td>\n",
       "      <td>57.806452</td>\n",
       "      <td>9.706452</td>\n",
       "      <td>2.075207</td>\n",
       "      <td>Minas Gerais</td>\n",
       "      <td>Brazil</td>\n",
       "      <td>Espirito Santo</td>\n",
       "      <td>Robusta</td>\n",
       "      <td>6.2</td>\n",
       "      <td>581.0</td>\n",
       "      <td>5330.0</td>\n",
       "      <td>175.0</td>\n",
       "      <td>2298.0</td>\n",
       "      <td>2319.0</td>\n",
       "      <td>3320.0</td>\n",
       "    </tr>\n",
       "    <tr>\n",
       "      <th>3</th>\n",
       "      <td>2006</td>\n",
       "      <td>6.670968</td>\n",
       "      <td>21.803087</td>\n",
       "      <td>27.190323</td>\n",
       "      <td>18.654839</td>\n",
       "      <td>97.129032</td>\n",
       "      <td>57.806452</td>\n",
       "      <td>9.706452</td>\n",
       "      <td>2.075207</td>\n",
       "      <td>Minas Gerais</td>\n",
       "      <td>Brazil</td>\n",
       "      <td>Sao Paulo</td>\n",
       "      <td>Arabica</td>\n",
       "      <td>3.3</td>\n",
       "      <td>581.0</td>\n",
       "      <td>5330.0</td>\n",
       "      <td>175.0</td>\n",
       "      <td>2298.0</td>\n",
       "      <td>2319.0</td>\n",
       "      <td>3320.0</td>\n",
       "    </tr>\n",
       "    <tr>\n",
       "      <th>4</th>\n",
       "      <td>2006</td>\n",
       "      <td>6.670968</td>\n",
       "      <td>21.803087</td>\n",
       "      <td>27.190323</td>\n",
       "      <td>18.654839</td>\n",
       "      <td>97.129032</td>\n",
       "      <td>57.806452</td>\n",
       "      <td>9.706452</td>\n",
       "      <td>2.075207</td>\n",
       "      <td>Minas Gerais</td>\n",
       "      <td>Brazil</td>\n",
       "      <td>Parana</td>\n",
       "      <td>Arabica</td>\n",
       "      <td>1.8</td>\n",
       "      <td>581.0</td>\n",
       "      <td>5330.0</td>\n",
       "      <td>175.0</td>\n",
       "      <td>2298.0</td>\n",
       "      <td>2319.0</td>\n",
       "      <td>3320.0</td>\n",
       "    </tr>\n",
       "  </tbody>\n",
       "</table>\n",
       "</div>"
      ],
      "text/plain": [
       "   year  rain_max   temp_avg   temp_max   temp_min    hum_max    hum_min  \\\n",
       "0  2006  6.670968  21.803087  27.190323  18.654839  97.129032  57.806452   \n",
       "1  2006  6.670968  21.803087  27.190323  18.654839  97.129032  57.806452   \n",
       "2  2006  6.670968  21.803087  27.190323  18.654839  97.129032  57.806452   \n",
       "3  2006  6.670968  21.803087  27.190323  18.654839  97.129032  57.806452   \n",
       "4  2006  6.670968  21.803087  27.190323  18.654839  97.129032  57.806452   \n",
       "\n",
       "   wind_max  wind_avg subdivision_x country   subdivision_y     type  \\\n",
       "0  9.706452  2.075207  Minas Gerais  Brazil    Minas Gerais  Arabica   \n",
       "1  9.706452  2.075207  Minas Gerais  Brazil  Espirito Santo  Arabica   \n",
       "2  9.706452  2.075207  Minas Gerais  Brazil  Espirito Santo  Robusta   \n",
       "3  9.706452  2.075207  Minas Gerais  Brazil       Sao Paulo  Arabica   \n",
       "4  9.706452  2.075207  Minas Gerais  Brazil          Parana  Arabica   \n",
       "\n",
       "   60kgs_bag  nonbearing_trees  bearing_trees  nonbear_hectares  \\\n",
       "0       16.3             581.0         5330.0             175.0   \n",
       "1        2.2             581.0         5330.0             175.0   \n",
       "2        6.2             581.0         5330.0             175.0   \n",
       "3        3.3             581.0         5330.0             175.0   \n",
       "4        1.8             581.0         5330.0             175.0   \n",
       "\n",
       "   bearing_hectares  bearing_trees_per_hectare  nonbearing_trees_per_hectare  \n",
       "0            2298.0                     2319.0                        3320.0  \n",
       "1            2298.0                     2319.0                        3320.0  \n",
       "2            2298.0                     2319.0                        3320.0  \n",
       "3            2298.0                     2319.0                        3320.0  \n",
       "4            2298.0                     2319.0                        3320.0  "
      ]
     },
     "execution_count": 11,
     "metadata": {},
     "output_type": "execute_result"
    }
   ],
   "source": [
    "# TODO: View the first 5 rows of your data\n",
    "\n",
    "weather_merged.head()\n"
   ]
  },
  {
   "cell_type": "code",
   "execution_count": 12,
   "id": "9600b65c",
   "metadata": {},
   "outputs": [
    {
     "data": {
      "text/plain": [
       "year                            0\n",
       "rain_max                        0\n",
       "temp_avg                        0\n",
       "temp_max                        0\n",
       "temp_min                        0\n",
       "hum_max                         0\n",
       "hum_min                         0\n",
       "wind_max                        0\n",
       "wind_avg                        0\n",
       "subdivision_x                   0\n",
       "country                         0\n",
       "subdivision_y                   0\n",
       "type                            0\n",
       "60kgs_bag                       0\n",
       "nonbearing_trees                5\n",
       "bearing_trees                   5\n",
       "nonbear_hectares                5\n",
       "bearing_hectares                5\n",
       "bearing_trees_per_hectare       5\n",
       "nonbearing_trees_per_hectare    5\n",
       "dtype: int64"
      ]
     },
     "execution_count": 12,
     "metadata": {},
     "output_type": "execute_result"
    }
   ],
   "source": [
    "# TODO: Check for null values \n",
    "weather_merged.isna().sum()\n"
   ]
  },
  {
   "cell_type": "code",
   "execution_count": 13,
   "id": "ff411571",
   "metadata": {},
   "outputs": [],
   "source": [
    "# TODO: Drop rows that contain null values\n",
    "\n",
    "weather_merged.dropna(inplace=True)"
   ]
  },
  {
   "cell_type": "code",
   "execution_count": 14,
   "id": "aae6b7a3",
   "metadata": {},
   "outputs": [
    {
     "data": {
      "text/plain": [
       "year                            0\n",
       "rain_max                        0\n",
       "temp_avg                        0\n",
       "temp_max                        0\n",
       "temp_min                        0\n",
       "hum_max                         0\n",
       "hum_min                         0\n",
       "wind_max                        0\n",
       "wind_avg                        0\n",
       "subdivision_x                   0\n",
       "country                         0\n",
       "subdivision_y                   0\n",
       "type                            0\n",
       "60kgs_bag                       0\n",
       "nonbearing_trees                0\n",
       "bearing_trees                   0\n",
       "nonbear_hectares                0\n",
       "bearing_hectares                0\n",
       "bearing_trees_per_hectare       0\n",
       "nonbearing_trees_per_hectare    0\n",
       "dtype: int64"
      ]
     },
     "execution_count": 14,
     "metadata": {},
     "output_type": "execute_result"
    }
   ],
   "source": [
    "# TODO: Check for null values \n",
    "weather_merged.isna().sum()\n"
   ]
  },
  {
   "cell_type": "code",
   "execution_count": 15,
   "id": "741e4098",
   "metadata": {},
   "outputs": [
    {
     "data": {
      "text/html": [
       "<div>\n",
       "<style scoped>\n",
       "    .dataframe tbody tr th:only-of-type {\n",
       "        vertical-align: middle;\n",
       "    }\n",
       "\n",
       "    .dataframe tbody tr th {\n",
       "        vertical-align: top;\n",
       "    }\n",
       "\n",
       "    .dataframe thead th {\n",
       "        text-align: right;\n",
       "    }\n",
       "</style>\n",
       "<table border=\"1\" class=\"dataframe\">\n",
       "  <thead>\n",
       "    <tr style=\"text-align: right;\">\n",
       "      <th></th>\n",
       "      <th>year</th>\n",
       "      <th>rain_max</th>\n",
       "      <th>temp_avg</th>\n",
       "      <th>temp_max</th>\n",
       "      <th>temp_min</th>\n",
       "      <th>hum_max</th>\n",
       "      <th>hum_min</th>\n",
       "      <th>wind_max</th>\n",
       "      <th>wind_avg</th>\n",
       "      <th>60kgs_bag</th>\n",
       "      <th>nonbearing_trees</th>\n",
       "      <th>bearing_trees</th>\n",
       "      <th>nonbear_hectares</th>\n",
       "      <th>bearing_hectares</th>\n",
       "      <th>bearing_trees_per_hectare</th>\n",
       "      <th>nonbearing_trees_per_hectare</th>\n",
       "    </tr>\n",
       "  </thead>\n",
       "  <tbody>\n",
       "    <tr>\n",
       "      <th>count</th>\n",
       "      <td>89.000000</td>\n",
       "      <td>89.000000</td>\n",
       "      <td>89.000000</td>\n",
       "      <td>89.000000</td>\n",
       "      <td>89.000000</td>\n",
       "      <td>89.000000</td>\n",
       "      <td>89.000000</td>\n",
       "      <td>89.000000</td>\n",
       "      <td>89.000000</td>\n",
       "      <td>89.000000</td>\n",
       "      <td>89.000000</td>\n",
       "      <td>89.000000</td>\n",
       "      <td>89.000000</td>\n",
       "      <td>89.000000</td>\n",
       "      <td>89.000000</td>\n",
       "      <td>89.000000</td>\n",
       "    </tr>\n",
       "    <tr>\n",
       "      <th>mean</th>\n",
       "      <td>2014.280899</td>\n",
       "      <td>3.083037</td>\n",
       "      <td>21.278090</td>\n",
       "      <td>28.181741</td>\n",
       "      <td>16.439684</td>\n",
       "      <td>96.389591</td>\n",
       "      <td>48.444761</td>\n",
       "      <td>8.482433</td>\n",
       "      <td>1.305804</td>\n",
       "      <td>9.204494</td>\n",
       "      <td>1008.876404</td>\n",
       "      <td>5790.337079</td>\n",
       "      <td>299.696629</td>\n",
       "      <td>2125.561798</td>\n",
       "      <td>2729.820225</td>\n",
       "      <td>3375.943820</td>\n",
       "    </tr>\n",
       "    <tr>\n",
       "      <th>std</th>\n",
       "      <td>5.176408</td>\n",
       "      <td>1.209247</td>\n",
       "      <td>0.540526</td>\n",
       "      <td>0.545556</td>\n",
       "      <td>0.888399</td>\n",
       "      <td>2.263560</td>\n",
       "      <td>3.040395</td>\n",
       "      <td>0.597430</td>\n",
       "      <td>0.381650</td>\n",
       "      <td>9.370037</td>\n",
       "      <td>281.292828</td>\n",
       "      <td>181.732192</td>\n",
       "      <td>87.692179</td>\n",
       "      <td>83.260401</td>\n",
       "      <td>164.404266</td>\n",
       "      <td>147.138027</td>\n",
       "    </tr>\n",
       "    <tr>\n",
       "      <th>min</th>\n",
       "      <td>2006.000000</td>\n",
       "      <td>1.617582</td>\n",
       "      <td>20.682400</td>\n",
       "      <td>27.000000</td>\n",
       "      <td>15.268681</td>\n",
       "      <td>87.837500</td>\n",
       "      <td>44.648352</td>\n",
       "      <td>7.484426</td>\n",
       "      <td>0.812202</td>\n",
       "      <td>0.800000</td>\n",
       "      <td>563.000000</td>\n",
       "      <td>5330.000000</td>\n",
       "      <td>175.000000</td>\n",
       "      <td>2010.000000</td>\n",
       "      <td>2319.000000</td>\n",
       "      <td>3030.000000</td>\n",
       "    </tr>\n",
       "    <tr>\n",
       "      <th>25%</th>\n",
       "      <td>2010.000000</td>\n",
       "      <td>2.183516</td>\n",
       "      <td>20.959536</td>\n",
       "      <td>27.769231</td>\n",
       "      <td>15.908791</td>\n",
       "      <td>96.060440</td>\n",
       "      <td>46.366120</td>\n",
       "      <td>7.898352</td>\n",
       "      <td>0.929144</td>\n",
       "      <td>2.700000</td>\n",
       "      <td>815.000000</td>\n",
       "      <td>5725.000000</td>\n",
       "      <td>234.000000</td>\n",
       "      <td>2060.000000</td>\n",
       "      <td>2662.000000</td>\n",
       "      <td>3281.000000</td>\n",
       "    </tr>\n",
       "    <tr>\n",
       "      <th>50%</th>\n",
       "      <td>2014.000000</td>\n",
       "      <td>2.876923</td>\n",
       "      <td>21.088660</td>\n",
       "      <td>28.406011</td>\n",
       "      <td>16.321311</td>\n",
       "      <td>97.049451</td>\n",
       "      <td>48.493750</td>\n",
       "      <td>8.549451</td>\n",
       "      <td>1.238874</td>\n",
       "      <td>4.800000</td>\n",
       "      <td>1050.000000</td>\n",
       "      <td>5760.000000</td>\n",
       "      <td>307.000000</td>\n",
       "      <td>2105.000000</td>\n",
       "      <td>2761.000000</td>\n",
       "      <td>3421.000000</td>\n",
       "    </tr>\n",
       "    <tr>\n",
       "      <th>75%</th>\n",
       "      <td>2019.000000</td>\n",
       "      <td>3.769231</td>\n",
       "      <td>21.444293</td>\n",
       "      <td>28.580769</td>\n",
       "      <td>16.475275</td>\n",
       "      <td>97.450549</td>\n",
       "      <td>49.329670</td>\n",
       "      <td>8.974176</td>\n",
       "      <td>1.557709</td>\n",
       "      <td>12.300000</td>\n",
       "      <td>1185.000000</td>\n",
       "      <td>5820.000000</td>\n",
       "      <td>347.000000</td>\n",
       "      <td>2175.000000</td>\n",
       "      <td>2792.000000</td>\n",
       "      <td>3483.000000</td>\n",
       "    </tr>\n",
       "    <tr>\n",
       "      <th>max</th>\n",
       "      <td>2023.000000</td>\n",
       "      <td>6.670968</td>\n",
       "      <td>23.040999</td>\n",
       "      <td>29.010989</td>\n",
       "      <td>18.753125</td>\n",
       "      <td>98.500000</td>\n",
       "      <td>57.806452</td>\n",
       "      <td>9.706452</td>\n",
       "      <td>2.075207</td>\n",
       "      <td>34.800000</td>\n",
       "      <td>1510.000000</td>\n",
       "      <td>6200.000000</td>\n",
       "      <td>475.000000</td>\n",
       "      <td>2298.000000</td>\n",
       "      <td>3020.000000</td>\n",
       "      <td>3578.000000</td>\n",
       "    </tr>\n",
       "  </tbody>\n",
       "</table>\n",
       "</div>"
      ],
      "text/plain": [
       "              year   rain_max   temp_avg   temp_max   temp_min    hum_max  \\\n",
       "count    89.000000  89.000000  89.000000  89.000000  89.000000  89.000000   \n",
       "mean   2014.280899   3.083037  21.278090  28.181741  16.439684  96.389591   \n",
       "std       5.176408   1.209247   0.540526   0.545556   0.888399   2.263560   \n",
       "min    2006.000000   1.617582  20.682400  27.000000  15.268681  87.837500   \n",
       "25%    2010.000000   2.183516  20.959536  27.769231  15.908791  96.060440   \n",
       "50%    2014.000000   2.876923  21.088660  28.406011  16.321311  97.049451   \n",
       "75%    2019.000000   3.769231  21.444293  28.580769  16.475275  97.450549   \n",
       "max    2023.000000   6.670968  23.040999  29.010989  18.753125  98.500000   \n",
       "\n",
       "         hum_min   wind_max   wind_avg  60kgs_bag  nonbearing_trees  \\\n",
       "count  89.000000  89.000000  89.000000  89.000000         89.000000   \n",
       "mean   48.444761   8.482433   1.305804   9.204494       1008.876404   \n",
       "std     3.040395   0.597430   0.381650   9.370037        281.292828   \n",
       "min    44.648352   7.484426   0.812202   0.800000        563.000000   \n",
       "25%    46.366120   7.898352   0.929144   2.700000        815.000000   \n",
       "50%    48.493750   8.549451   1.238874   4.800000       1050.000000   \n",
       "75%    49.329670   8.974176   1.557709  12.300000       1185.000000   \n",
       "max    57.806452   9.706452   2.075207  34.800000       1510.000000   \n",
       "\n",
       "       bearing_trees  nonbear_hectares  bearing_hectares  \\\n",
       "count      89.000000         89.000000         89.000000   \n",
       "mean     5790.337079        299.696629       2125.561798   \n",
       "std       181.732192         87.692179         83.260401   \n",
       "min      5330.000000        175.000000       2010.000000   \n",
       "25%      5725.000000        234.000000       2060.000000   \n",
       "50%      5760.000000        307.000000       2105.000000   \n",
       "75%      5820.000000        347.000000       2175.000000   \n",
       "max      6200.000000        475.000000       2298.000000   \n",
       "\n",
       "       bearing_trees_per_hectare  nonbearing_trees_per_hectare  \n",
       "count                  89.000000                     89.000000  \n",
       "mean                 2729.820225                   3375.943820  \n",
       "std                   164.404266                    147.138027  \n",
       "min                  2319.000000                   3030.000000  \n",
       "25%                  2662.000000                   3281.000000  \n",
       "50%                  2761.000000                   3421.000000  \n",
       "75%                  2792.000000                   3483.000000  \n",
       "max                  3020.000000                   3578.000000  "
      ]
     },
     "execution_count": 15,
     "metadata": {},
     "output_type": "execute_result"
    }
   ],
   "source": [
    "weather_merged.describe()"
   ]
  },
  {
   "cell_type": "code",
   "execution_count": 16,
   "id": "4d552240",
   "metadata": {},
   "outputs": [
    {
     "data": {
      "text/plain": [
       "(89, 20)"
      ]
     },
     "execution_count": 16,
     "metadata": {},
     "output_type": "execute_result"
    }
   ],
   "source": [
    "weather_merged.shape"
   ]
  },
  {
   "cell_type": "code",
   "execution_count": 17,
   "id": "4474ccbd",
   "metadata": {},
   "outputs": [],
   "source": [
    "def interpret_skewness(skew_value) -> str:\n",
    "    \"\"\"\n",
    "    Returns a label describing the skewness direction and strength.\n",
    "    \n",
    "    Args:\n",
    "        skew_value (float): The skewness of the distribution.\n",
    "\n",
    "    Returns:\n",
    "        str: A label indicating the skew type.\n",
    "    \"\"\"\n",
    "    if skew_value < -1:\n",
    "        return \"Strong Left Skew\"\n",
    "    elif -1 <= skew_value < -0.5:\n",
    "        return \"Moderate Left Skew\"\n",
    "    elif -0.5 <= skew_value <= 0.5:\n",
    "        return \"Approximately Symmetric\"\n",
    "    elif 0.5 < skew_value <= 1:\n",
    "        return \"Moderate Right Skew\"\n",
    "    else:\n",
    "        return \"Strong Right Skew\""
   ]
  },
  {
   "cell_type": "code",
   "execution_count": 18,
   "id": "91a290c0",
   "metadata": {},
   "outputs": [
    {
     "name": "stdout",
     "output_type": "stream",
     "text": [
      "1.35 is Strong Right Skew\n"
     ]
    }
   ],
   "source": [
    "# calculate specific skewness\n",
    "skewness = round(weather_merged['60kgs_bag'].skew(), 2)\n",
    "\n",
    "skew_label = interpret_skewness(1.35)\n",
    "print(f\"{skewness} is {skew_label}\")\n"
   ]
  },
  {
   "cell_type": "code",
   "execution_count": 19,
   "id": "e80c61c6",
   "metadata": {},
   "outputs": [
    {
     "name": "stdout",
     "output_type": "stream",
     "text": [
      "Column: '60kgs_bag' → Skewness: 1.33 → Strong Right Skew\n"
     ]
    }
   ],
   "source": [
    "column = '60kgs_bag'\n",
    "skew_value = skew(weather_merged[column])\n",
    "label = interpret_skewness(skew_value)\n",
    "\n",
    "print(f\"Column: '{column}' → Skewness: {skew_value:.2f} → {label}\")"
   ]
  },
  {
   "cell_type": "markdown",
   "id": "de65b535",
   "metadata": {},
   "source": [
    "### Observations and Questions Gained from Descriptive Analysis of Coffee Producing Subdivisions:\n",
    "\n",
    "**Observations**\n",
    "- The average coffee production is approximately 9.2 million 60kg bags, with a maximum of nearly 35 million, indicating substantial variability.\n",
    "- Temperature averages remain relatively stable across years (mean ~21.28°C), with low standard deviation—ideal for coffee cultivation.\n",
    "- Wind speeds show a narrower range and lower averages, likely minimizing damage to crops.\n",
    "- Max humidity tends to be consistently high (~96%), with less variation than min humidity, which might reflect daily extremes.\n",
    "- Bearing trees vastly outnumber non-bearing trees, with a mean of 5,790 vs. 1,008, showing that most trees are productive.\n",
    "- The trees per hectare are slightly more densely packed for non-bearing trees (~3375 trees/hectare) than for bearing ones (~2729 trees/hectare).\n",
    "\n",
    "**Questions**\n",
    "- Are subdivisions with higher bearing tree density per hectare more productive, or does overcrowding limit yield?\n",
    "- Could lower wind_avg and wind_max be linked to increased disease (due to stagnant air and high humidity)?\n",
    "- Does min humidity play a stronger role in reducing crop yield than average humidity, based on its variability?\n",
    "- What role do non-bearing trees play in affecting average production metrics—are they due to age, disease, or replanting practices?\n",
    "\n",
    "**Additional Notes:**\n",
    "- The consistent humidity and temperature range support long-term coffee farming but may mask short-term shocks or microclimatic events.\n",
    "- Further analysis could explore outlier years of high production—e.g., 35 million bags—cross-referenced with weather conditions and tree stats.\n",
    "- There may be a threshold of bearing trees per hectare beyond which yield diminishes due to overcrowding or resource competition.\n",
    "\n",
    "**Resources:**\n"
   ]
  },
  {
   "cell_type": "code",
   "execution_count": 20,
   "id": "22fd1940",
   "metadata": {},
   "outputs": [
    {
     "data": {
      "text/plain": [
       "([0, 1, 2, 3],\n",
       " [Text(0, 0, 'Minas Gerais'),\n",
       "  Text(1, 0, 'Espirito Santo'),\n",
       "  Text(2, 0, 'Sao Paulo'),\n",
       "  Text(3, 0, 'Parana')])"
      ]
     },
     "execution_count": 20,
     "metadata": {},
     "output_type": "execute_result"
    },
    {
     "data": {
      "image/png": "[encoded data removed]",
      "text/plain": [
       "<Figure size 1200x700 with 1 Axes>"
      ]
     },
     "metadata": {},
     "output_type": "display_data"
    }
   ],
   "source": [
    "# TODO: BEGIN YOUR EDA!\n",
    "# 60kgs bag Per Subdivision.\n",
    "plt.figure(figsize=(12, 7))\n",
    "sns.boxplot(data=weather_merged, x='subdivision_y', y='60kgs_bag')\n",
    "plt.ylabel('60kgs bag')\n",
    "plt.xlabel('Subdivision')\n",
    "plt.title('Coffee Production by Subdivision')\n",
    "plt.xticks(rotation=45)\n"
   ]
  },
  {
   "cell_type": "markdown",
   "id": "907ec128",
   "metadata": {},
   "source": [
    "### Observations and Questions gained from Box Plot of Subdivision:\n",
    "\n",
    "**Observations**\n",
    "- Minas Gerais exhibits the highest coffee production, with a higher median value and larger interquartile range (IQR) indicating both high output and variations over time.\n",
    "- Espirito Santo shows more variability than Sao Paulo and Paraná, but much lower total production than Minas Gerais.\n",
    "- Sao Paulo and Paraná have the lowest medians, with relatively tight IQRs, indicating stable and low production ouptus.\n",
    "- Outliers are observed across all regions (especially Minas Gerais and Espirito Santo), indicating occasional years of abnormally high yields.\n",
    "\n",
    "**Questions**\n",
    "- What climatic or agricultural factors contribute to Minas Gerais' overall dominant production levels?\n",
    "- An extension to this project could include assessing how Espirito Santo’s production can be optimized further to reduce volatility?\n",
    "- Additionally, Why is Paraná’s production significantly lower? Is it due to land use, climate, or economic priorities? \n",
    "\n",
    "Additional Notes: \n",
    "- This visualization seems pretty useful as a high level overall look at various coffee producing subdivisions, as well as benchmarking regional performance.\n",
    "- It may be insightful to overlay weather variables (e.g., rainfall, humidity) per subdivision in future iterations to explore other possible/causal patterns.\n",
    "- Interestingly enough--given the time and resources--I can target subsidy, irrigation infrastructure, or pest management interventions where variability is high...\n",
    "\n",
    "**Resources:**"
   ]
  },
  {
   "cell_type": "code",
   "execution_count": 21,
   "id": "9e46804b",
   "metadata": {},
   "outputs": [
    {
     "data": {
      "application/vnd.plotly.v1+json": {
       "config": {
        "plotlyServerURL": "https://plot.ly"
       },
       "data": [
        {
         "alignmentgroup": "True",
         "hovertemplate": "Subdivisions=%{x}<br>60kg Bags=%{y}<extra></extra>",
         "legendgroup": "Minas Gerais",
         "marker": {
          "color": "#636efa"
         },
         "name": "Minas Gerais",
         "notched": false,
         "offsetgroup": "Minas Gerais",
         "orientation": "v",
         "showlegend": true,
         "type": "box",
         "x": [
          "Minas Gerais",
          "Minas Gerais",
          "Minas Gerais",
          "Minas Gerais",
          "Minas Gerais",
          "Minas Gerais",
          "Minas Gerais",
          "Minas Gerais",
          "Minas Gerais",
          "Minas Gerais",
          "Minas Gerais",
          "Minas Gerais",
          "Minas Gerais",
          "Minas Gerais",
          "Minas Gerais",
          "Minas Gerais",
          "Minas Gerais"
         ],
         "x0": " ",
         "xaxis": "x",
         "y": {
          "bdata": "zczMzMxMMEAzMzMzM7M3QJqZmZmZ2TBAzczMzMyMOUCamZmZmRk2QAAAAAAAgDxAAAAAAACAN0AAAAAAAIA8QGZmZmZmZj1AAAAAAAAAOkDNzMzMzEw5QAAAAAAAQEBAmpmZmZkZQUCamZmZmRk9QGZmZmZmZkFAAAAAAACAOEAAAAAAAIA8QA==",
          "dtype": "f8"
         },
         "y0": " ",
         "yaxis": "y"
        },
        {
         "alignmentgroup": "True",
         "hovertemplate": "Subdivisions=%{x}<br>60kg Bags=%{y}<extra></extra>",
         "legendgroup": "Espirito Santo",
         "marker": {
          "color": "#EF553B"
         },
         "name": "Espirito Santo",
         "notched": false,
         "offsetgroup": "Espirito Santo",
         "orientation": "v",
         "showlegend": true,
         "type": "box",
         "x": [
          "Espirito Santo",
          "Espirito Santo",
          "Espirito Santo",
          "Espirito Santo",
          "Espirito Santo",
          "Espirito Santo",
          "Espirito Santo",
          "Espirito Santo",
          "Espirito Santo",
          "Espirito Santo",
          "Espirito Santo",
          "Espirito Santo",
          "Espirito Santo",
          "Espirito Santo",
          "Espirito Santo",
          "Espirito Santo",
          "Espirito Santo",
          "Espirito Santo",
          "Espirito Santo",
          "Espirito Santo",
          "Espirito Santo",
          "Espirito Santo",
          "Espirito Santo",
          "Espirito Santo",
          "Espirito Santo",
          "Espirito Santo",
          "Espirito Santo",
          "Espirito Santo",
          "Espirito Santo",
          "Espirito Santo",
          "Espirito Santo",
          "Espirito Santo",
          "Espirito Santo",
          "Espirito Santo",
          "Espirito Santo",
          "Espirito Santo"
         ],
         "x0": " ",
         "xaxis": "x",
         "y": {
          "bdata": "mpmZmZmZAUDNzMzMzMwYQJqZmZmZmQFAMzMzMzMzH0CamZmZmZkBQGZmZmZmZiBAZmZmZmZmBkAAAAAAAAAiQDMzMzMzMwNAZmZmZmZmIEDNzMzMzMwIQM3MzMzMzCBAmpmZmZmZBUCamZmZmZklQAAAAAAAAAhAmpmZmZmZJ0AAAAAAAAAMQAAAAAAAAAxAmpmZmZmZKECamZmZmZkoQGZmZmZmZgpAMzMzMzMzKkDNzMzMzMwIQM3MzMzMzCNAZmZmZmZmDkDNzMzMzMwaQM3MzMzMzBJAzczMzMzMJUAzMzMzMzMPQM3MzMzMzClAMzMzMzMzE0CamZmZmZksQJqZmZmZmQ1AZmZmZmZmL0CamZmZmZkRQJqZmZmZmTBA",
          "dtype": "f8"
         },
         "y0": " ",
         "yaxis": "y"
        },
        {
         "alignmentgroup": "True",
         "hovertemplate": "Subdivisions=%{x}<br>60kg Bags=%{y}<extra></extra>",
         "legendgroup": "Sao Paulo",
         "marker": {
          "color": "#00cc96"
         },
         "name": "Sao Paulo",
         "notched": false,
         "offsetgroup": "Sao Paulo",
         "orientation": "v",
         "showlegend": true,
         "type": "box",
         "x": [
          "Sao Paulo",
          "Sao Paulo",
          "Sao Paulo",
          "Sao Paulo",
          "Sao Paulo",
          "Sao Paulo",
          "Sao Paulo",
          "Sao Paulo",
          "Sao Paulo",
          "Sao Paulo",
          "Sao Paulo",
          "Sao Paulo",
          "Sao Paulo",
          "Sao Paulo",
          "Sao Paulo",
          "Sao Paulo",
          "Sao Paulo",
          "Sao Paulo"
         ],
         "x0": " ",
         "xaxis": "x",
         "y": {
          "bdata": "ZmZmZmZmCkCamZmZmZkTQM3MzMzMzAhAZmZmZmZmE0DNzMzMzMwQQAAAAAAAABRAZmZmZmZmEECamZmZmZkVQGZmZmZmZhJAZmZmZmZmEkBmZmZmZmYSQDMzMzMzMxFAmpmZmZmZF0AAAAAAAAAaQJqZmZmZmRVAmpmZmZmZGUBmZmZmZmYSQGZmZmZmZhRA",
          "dtype": "f8"
         },
         "y0": " ",
         "yaxis": "y"
        },
        {
         "alignmentgroup": "True",
         "hovertemplate": "Subdivisions=%{x}<br>60kg Bags=%{y}<extra></extra>",
         "legendgroup": "Parana",
         "marker": {
          "color": "#ab63fa"
         },
         "name": "Parana",
         "notched": false,
         "offsetgroup": "Parana",
         "orientation": "v",
         "showlegend": true,
         "type": "box",
         "x": [
          "Parana",
          "Parana",
          "Parana",
          "Parana",
          "Parana",
          "Parana",
          "Parana",
          "Parana",
          "Parana",
          "Parana",
          "Parana",
          "Parana",
          "Parana",
          "Parana",
          "Parana",
          "Parana",
          "Parana",
          "Parana"
         ],
         "x0": " ",
         "xaxis": "x",
         "y": {
          "bdata": "zczMzMzM/D8AAAAAAAAEQDMzMzMzM/8/AAAAAAAABEBmZmZmZmb+PzMzMzMzMwNAZmZmZmZm/j/NzMzMzMz8PzMzMzMzM/s/MzMzMzMz+z8AAAAAAADwPzMzMzMzM/M/mpmZmZmZ8T8zMzMzMzPzP5qZmZmZmfE/mpmZmZmZ8T8AAAAAAADwP5qZmZmZmek/",
          "dtype": "f8"
         },
         "y0": " ",
         "yaxis": "y"
        }
       ],
       "layout": {
        "boxmode": "overlay",
        "height": 600,
        "legend": {
         "title": {
          "text": "Subdivisions"
         },
         "tracegroupgap": 0
        },
        "template": {
         "data": {
          "bar": [
           {
            "error_x": {
             "color": "#2a3f5f"
            },
            "error_y": {
             "color": "#2a3f5f"
            },
            "marker": {
             "line": {
              "color": "#E5ECF6",
              "width": 0.5
             },
             "pattern": {
              "fillmode": "overlay",
              "size": 10,
              "solidity": 0.2
             }
            },
            "type": "bar"
           }
          ],
          "barpolar": [
           {
            "marker": {
             "line": {
              "color": "#E5ECF6",
              "width": 0.5
             },
             "pattern": {
              "fillmode": "overlay",
              "size": 10,
              "solidity": 0.2
             }
            },
            "type": "barpolar"
           }
          ],
          "carpet": [
           {
            "aaxis": {
             "endlinecolor": "#2a3f5f",
             "gridcolor": "white",
             "linecolor": "white",
             "minorgridcolor": "white",
             "startlinecolor": "#2a3f5f"
            },
            "baxis": {
             "endlinecolor": "#2a3f5f",
             "gridcolor": "white",
             "linecolor": "white",
             "minorgridcolor": "white",
             "startlinecolor": "#2a3f5f"
            },
            "type": "carpet"
           }
          ],
          "choropleth": [
           {
            "colorbar": {
             "outlinewidth": 0,
             "ticks": ""
            },
            "type": "choropleth"
           }
          ],
          "contour": [
           {
            "colorbar": {
             "outlinewidth": 0,
             "ticks": ""
            },
            "colorscale": [
             [
              0,
              "#0d0887"
             ],
             [
              0.1111111111111111,
              "#46039f"
             ],
             [
              0.2222222222222222,
              "#7201a8"
             ],
             [
              0.3333333333333333,
              "#9c179e"
             ],
             [
              0.4444444444444444,
              "#bd3786"
             ],
             [
              0.5555555555555556,
              "#d8576b"
             ],
             [
              0.6666666666666666,
              "#ed7953"
             ],
             [
              0.7777777777777778,
              "#fb9f3a"
             ],
             [
              0.8888888888888888,
              "#fdca26"
             ],
             [
              1,
              "#f0f921"
             ]
            ],
            "type": "contour"
           }
          ],
          "contourcarpet": [
           {
            "colorbar": {
             "outlinewidth": 0,
             "ticks": ""
            },
            "type": "contourcarpet"
           }
          ],
          "heatmap": [
           {
            "colorbar": {
             "outlinewidth": 0,
             "ticks": ""
            },
            "colorscale": [
             [
              0,
              "#0d0887"
             ],
             [
              0.1111111111111111,
              "#46039f"
             ],
             [
              0.2222222222222222,
              "#7201a8"
             ],
             [
              0.3333333333333333,
              "#9c179e"
             ],
             [
              0.4444444444444444,
              "#bd3786"
             ],
             [
              0.5555555555555556,
              "#d8576b"
             ],
             [
              0.6666666666666666,
              "#ed7953"
             ],
             [
              0.7777777777777778,
              "#fb9f3a"
             ],
             [
              0.8888888888888888,
              "#fdca26"
             ],
             [
              1,
              "#f0f921"
             ]
            ],
            "type": "heatmap"
           }
          ],
          "histogram": [
           {
            "marker": {
             "pattern": {
              "fillmode": "overlay",
              "size": 10,
              "solidity": 0.2
             }
            },
            "type": "histogram"
           }
          ],
          "histogram2d": [
           {
            "colorbar": {
             "outlinewidth": 0,
             "ticks": ""
            },
            "colorscale": [
             [
              0,
              "#0d0887"
             ],
             [
              0.1111111111111111,
              "#46039f"
             ],
             [
              0.2222222222222222,
              "#7201a8"
             ],
             [
              0.3333333333333333,
              "#9c179e"
             ],
             [
              0.4444444444444444,
              "#bd3786"
             ],
             [
              0.5555555555555556,
              "#d8576b"
             ],
             [
              0.6666666666666666,
              "#ed7953"
             ],
             [
              0.7777777777777778,
              "#fb9f3a"
             ],
             [
              0.8888888888888888,
              "#fdca26"
             ],
             [
              1,
              "#f0f921"
             ]
            ],
            "type": "histogram2d"
           }
          ],
          "histogram2dcontour": [
           {
            "colorbar": {
             "outlinewidth": 0,
             "ticks": ""
            },
            "colorscale": [
             [
              0,
              "#0d0887"
             ],
             [
              0.1111111111111111,
              "#46039f"
             ],
             [
              0.2222222222222222,
              "#7201a8"
             ],
             [
              0.3333333333333333,
              "#9c179e"
             ],
             [
              0.4444444444444444,
              "#bd3786"
             ],
             [
              0.5555555555555556,
              "#d8576b"
             ],
             [
              0.6666666666666666,
              "#ed7953"
             ],
             [
              0.7777777777777778,
              "#fb9f3a"
             ],
             [
              0.8888888888888888,
              "#fdca26"
             ],
             [
              1,
              "#f0f921"
             ]
            ],
            "type": "histogram2dcontour"
           }
          ],
          "mesh3d": [
           {
            "colorbar": {
             "outlinewidth": 0,
             "ticks": ""
            },
            "type": "mesh3d"
           }
          ],
          "parcoords": [
           {
            "line": {
             "colorbar": {
              "outlinewidth": 0,
              "ticks": ""
             }
            },
            "type": "parcoords"
           }
          ],
          "pie": [
           {
            "automargin": true,
            "type": "pie"
           }
          ],
          "scatter": [
           {
            "fillpattern": {
             "fillmode": "overlay",
             "size": 10,
             "solidity": 0.2
            },
            "type": "scatter"
           }
          ],
          "scatter3d": [
           {
            "line": {
             "colorbar": {
              "outlinewidth": 0,
              "ticks": ""
             }
            },
            "marker": {
             "colorbar": {
              "outlinewidth": 0,
              "ticks": ""
             }
            },
            "type": "scatter3d"
           }
          ],
          "scattercarpet": [
           {
            "marker": {
             "colorbar": {
              "outlinewidth": 0,
              "ticks": ""
             }
            },
            "type": "scattercarpet"
           }
          ],
          "scattergeo": [
           {
            "marker": {
             "colorbar": {
              "outlinewidth": 0,
              "ticks": ""
             }
            },
            "type": "scattergeo"
           }
          ],
          "scattergl": [
           {
            "marker": {
             "colorbar": {
              "outlinewidth": 0,
              "ticks": ""
             }
            },
            "type": "scattergl"
           }
          ],
          "scattermap": [
           {
            "marker": {
             "colorbar": {
              "outlinewidth": 0,
              "ticks": ""
             }
            },
            "type": "scattermap"
           }
          ],
          "scattermapbox": [
           {
            "marker": {
             "colorbar": {
              "outlinewidth": 0,
              "ticks": ""
             }
            },
            "type": "scattermapbox"
           }
          ],
          "scatterpolar": [
           {
            "marker": {
             "colorbar": {
              "outlinewidth": 0,
              "ticks": ""
             }
            },
            "type": "scatterpolar"
           }
          ],
          "scatterpolargl": [
           {
            "marker": {
             "colorbar": {
              "outlinewidth": 0,
              "ticks": ""
             }
            },
            "type": "scatterpolargl"
           }
          ],
          "scatterternary": [
           {
            "marker": {
             "colorbar": {
              "outlinewidth": 0,
              "ticks": ""
             }
            },
            "type": "scatterternary"
           }
          ],
          "surface": [
           {
            "colorbar": {
             "outlinewidth": 0,
             "ticks": ""
            },
            "colorscale": [
             [
              0,
              "#0d0887"
             ],
             [
              0.1111111111111111,
              "#46039f"
             ],
             [
              0.2222222222222222,
              "#7201a8"
             ],
             [
              0.3333333333333333,
              "#9c179e"
             ],
             [
              0.4444444444444444,
              "#bd3786"
             ],
             [
              0.5555555555555556,
              "#d8576b"
             ],
             [
              0.6666666666666666,
              "#ed7953"
             ],
             [
              0.7777777777777778,
              "#fb9f3a"
             ],
             [
              0.8888888888888888,
              "#fdca26"
             ],
             [
              1,
              "#f0f921"
             ]
            ],
            "type": "surface"
           }
          ],
          "table": [
           {
            "cells": {
             "fill": {
              "color": "#EBF0F8"
             },
             "line": {
              "color": "white"
             }
            },
            "header": {
             "fill": {
              "color": "#C8D4E3"
             },
             "line": {
              "color": "white"
             }
            },
            "type": "table"
           }
          ]
         },
         "layout": {
          "annotationdefaults": {
           "arrowcolor": "#2a3f5f",
           "arrowhead": 0,
           "arrowwidth": 1
          },
          "autotypenumbers": "strict",
          "coloraxis": {
           "colorbar": {
            "outlinewidth": 0,
            "ticks": ""
           }
          },
          "colorscale": {
           "diverging": [
            [
             0,
             "#8e0152"
            ],
            [
             0.1,
             "#c51b7d"
            ],
            [
             0.2,
             "#de77ae"
            ],
            [
             0.3,
             "#f1b6da"
            ],
            [
             0.4,
             "#fde0ef"
            ],
            [
             0.5,
             "#f7f7f7"
            ],
            [
             0.6,
             "#e6f5d0"
            ],
            [
             0.7,
             "#b8e186"
            ],
            [
             0.8,
             "#7fbc41"
            ],
            [
             0.9,
             "#4d9221"
            ],
            [
             1,
             "#276419"
            ]
           ],
           "sequential": [
            [
             0,
             "#0d0887"
            ],
            [
             0.1111111111111111,
             "#46039f"
            ],
            [
             0.2222222222222222,
             "#7201a8"
            ],
            [
             0.3333333333333333,
             "#9c179e"
            ],
            [
             0.4444444444444444,
             "#bd3786"
            ],
            [
             0.5555555555555556,
             "#d8576b"
            ],
            [
             0.6666666666666666,
             "#ed7953"
            ],
            [
             0.7777777777777778,
             "#fb9f3a"
            ],
            [
             0.8888888888888888,
             "#fdca26"
            ],
            [
             1,
             "#f0f921"
            ]
           ],
           "sequentialminus": [
            [
             0,
             "#0d0887"
            ],
            [
             0.1111111111111111,
             "#46039f"
            ],
            [
             0.2222222222222222,
             "#7201a8"
            ],
            [
             0.3333333333333333,
             "#9c179e"
            ],
            [
             0.4444444444444444,
             "#bd3786"
            ],
            [
             0.5555555555555556,
             "#d8576b"
            ],
            [
             0.6666666666666666,
             "#ed7953"
            ],
            [
             0.7777777777777778,
             "#fb9f3a"
            ],
            [
             0.8888888888888888,
             "#fdca26"
            ],
            [
             1,
             "#f0f921"
            ]
           ]
          },
          "colorway": [
           "#636efa",
           "#EF553B",
           "#00cc96",
           "#ab63fa",
           "#FFA15A",
           "#19d3f3",
           "#FF6692",
           "#B6E880",
           "#FF97FF",
           "#FECB52"
          ],
          "font": {
           "color": "#2a3f5f"
          },
          "geo": {
           "bgcolor": "white",
           "lakecolor": "white",
           "landcolor": "#E5ECF6",
           "showlakes": true,
           "showland": true,
           "subunitcolor": "white"
          },
          "hoverlabel": {
           "align": "left"
          },
          "hovermode": "closest",
          "mapbox": {
           "style": "light"
          },
          "paper_bgcolor": "white",
          "plot_bgcolor": "#E5ECF6",
          "polar": {
           "angularaxis": {
            "gridcolor": "white",
            "linecolor": "white",
            "ticks": ""
           },
           "bgcolor": "#E5ECF6",
           "radialaxis": {
            "gridcolor": "white",
            "linecolor": "white",
            "ticks": ""
           }
          },
          "scene": {
           "xaxis": {
            "backgroundcolor": "#E5ECF6",
            "gridcolor": "white",
            "gridwidth": 2,
            "linecolor": "white",
            "showbackground": true,
            "ticks": "",
            "zerolinecolor": "white"
           },
           "yaxis": {
            "backgroundcolor": "#E5ECF6",
            "gridcolor": "white",
            "gridwidth": 2,
            "linecolor": "white",
            "showbackground": true,
            "ticks": "",
            "zerolinecolor": "white"
           },
           "zaxis": {
            "backgroundcolor": "#E5ECF6",
            "gridcolor": "white",
            "gridwidth": 2,
            "linecolor": "white",
            "showbackground": true,
            "ticks": "",
            "zerolinecolor": "white"
           }
          },
          "shapedefaults": {
           "line": {
            "color": "#2a3f5f"
           }
          },
          "ternary": {
           "aaxis": {
            "gridcolor": "white",
            "linecolor": "white",
            "ticks": ""
           },
           "baxis": {
            "gridcolor": "white",
            "linecolor": "white",
            "ticks": ""
           },
           "bgcolor": "#E5ECF6",
           "caxis": {
            "gridcolor": "white",
            "linecolor": "white",
            "ticks": ""
           }
          },
          "title": {
           "x": 0.05
          },
          "xaxis": {
           "automargin": true,
           "gridcolor": "white",
           "linecolor": "white",
           "ticks": "",
           "title": {
            "standoff": 15
           },
           "zerolinecolor": "white",
           "zerolinewidth": 2
          },
          "yaxis": {
           "automargin": true,
           "gridcolor": "white",
           "linecolor": "white",
           "ticks": "",
           "title": {
            "standoff": 15
           },
           "zerolinecolor": "white",
           "zerolinewidth": 2
          }
         }
        },
        "title": {
         "text": "Coffee Production by Subdivision (Interactive)"
        },
        "width": 900,
        "xaxis": {
         "anchor": "y",
         "categoryarray": [
          "Minas Gerais",
          "Espirito Santo",
          "Sao Paulo",
          "Parana"
         ],
         "categoryorder": "array",
         "domain": [
          0,
          1
         ],
         "tickangle": -45,
         "title": {
          "text": "Subdivisions"
         }
        },
        "yaxis": {
         "anchor": "x",
         "domain": [
          0,
          1
         ],
         "title": {
          "text": "60kg Bags"
         }
        }
       }
      }
     },
     "metadata": {},
     "output_type": "display_data"
    }
   ],
   "source": [
    "# Create inteactive boxplt using plotly express\n",
    "# Note: GitHub doesn't render plotyly, javaScript, or HTML type files.\n",
    "# The image at the introduction of this Notebook is a static image of this interactive boxplot.\n",
    "fig = px.box(\n",
    "    data_frame=weather_merged,\n",
    "    x='subdivision_y',\n",
    "    y='60kgs_bag',\n",
    "    color='subdivision_y',  # Optional: adds color by group\n",
    "    title='Coffee Production by Subdivision (Interactive)',\n",
    "    labels={'60kgs_bag': '60kg Bags', 'subdivision_y': 'Subdivisions'},\n",
    "    width=900,\n",
    "    height=600\n",
    ")\n",
    "# Customize the layout\n",
    "fig.update_layout(xaxis_tickangle=-45)  # Rotate x-axis labels\n",
    "fig.show()\n",
    "\n",
    "# Save the figure as a static image\n",
    "fig.write_image(\"../image/coffee_production_by_subdivision.png\")"
   ]
  },
  {
   "cell_type": "code",
   "execution_count": 22,
   "id": "82f2deee",
   "metadata": {},
   "outputs": [
    {
     "data": {
      "text/plain": [
       "([0, 1, 2, 3, 4, 5, 6, 7, 8, 9, 10, 11, 12, 13, 14, 15, 16],\n",
       " [Text(0, 0, '2006'),\n",
       "  Text(1, 0, '2007'),\n",
       "  Text(2, 0, '2008'),\n",
       "  Text(3, 0, '2009'),\n",
       "  Text(4, 0, '2010'),\n",
       "  Text(5, 0, '2011'),\n",
       "  Text(6, 0, '2012'),\n",
       "  Text(7, 0, '2013'),\n",
       "  Text(8, 0, '2014'),\n",
       "  Text(9, 0, '2015'),\n",
       "  Text(10, 0, '2016'),\n",
       "  Text(11, 0, '2017'),\n",
       "  Text(12, 0, '2019'),\n",
       "  Text(13, 0, '2020'),\n",
       "  Text(14, 0, '2021'),\n",
       "  Text(15, 0, '2022'),\n",
       "  Text(16, 0, '2023')])"
      ]
     },
     "execution_count": 22,
     "metadata": {},
     "output_type": "execute_result"
    },
    {
     "data": {
      "image/png": "[encoded data removed]",
      "text/plain": [
       "<Figure size 640x480 with 1 Axes>"
      ]
     },
     "metadata": {},
     "output_type": "display_data"
    }
   ],
   "source": [
    "# 60kgs bag cofee production per Subdivision.\n",
    "sns.boxplot(data=weather_merged, x='year', y='60kgs_bag')\n",
    "plt.ylabel('60kgs bag')\n",
    "plt.xlabel('Years')\n",
    "plt.title('Coffee Production Over Time')\n",
    "plt.xticks(rotation=45)\n"
   ]
  },
  {
   "cell_type": "markdown",
   "id": "eb22ae53",
   "metadata": {},
   "source": [
    "### Observations and Questions gained from boxplot of 60kgs Bag coffee production over time:\n",
    "\n",
    "**Observations**\n",
    "- Coffee production generally increased from 2006 to 2023, with the median yield rising steadily over time.\n",
    "- Early years (2006–2011) show relatively stable production with tight interquartile ranges and few outliers.\n",
    "- From 2012 onward, the boxes become taller, indicating increased variability in coffee output.\n",
    "- 2017 shows a noticeable dip in median coffee production, followed by strong recovery in subsequent years.\n",
    "- The period between 2018 and 2023 reveals a combination of growth and increased spread, meaning while production increased, outcomes were more diverse across regions or farms.\n",
    "- Frequent outliers in several years suggest exceptional harvests or reporting anomalies—e.g., values significantly higher than typical for that year.\n",
    "\n",
    "**Questions**\n",
    "- What environmental or economic factors led to the production dip in 2017?\n",
    "- Why did variability increase so sharply after 2018? Could this reflect differing regional outcomes, technology adoption, or climate effects?\n",
    "- Are the frequent high outliers indicative of a small group of high-yield farms, or changes in reporting and measurement?\n",
    "\n",
    "Additional Notes: \n",
    "- The steady upward trend in medians supports the notion of growing capacity or efficiency in coffee production, possibly linked to technology, better cultivation practices, or favorable climate conditions.\n",
    "- The rising variability may call for further segmentation by region, variety, or environmental conditions to better understand performance drivers.\n",
    "- This analysis could benefit from being cross-referenced with climate data (e.g., rainfall, temperature) to find deeper correlations.\n",
    "\n",
    "**Resources:**"
   ]
  },
  {
   "cell_type": "code",
   "execution_count": 23,
   "id": "08ded574",
   "metadata": {},
   "outputs": [
    {
     "name": "stdout",
     "output_type": "stream",
     "text": [
      "Pearson correlation coefficient: -0.04\n",
      "P-value: 0.71\n"
     ]
    }
   ],
   "source": [
    "# Relationship between temp_avg and 60kgs_bag, eg. How strong is the relationship?\n",
    "r_value, p_value = pearsonr(x=weather_merged['temp_avg'], y=weather_merged['60kgs_bag'])\n",
    "print(f\"Pearson correlation coefficient: {r_value:.2f}\")\n",
    "print(f\"P-value: {p_value:.2f}\")"
   ]
  },
  {
   "cell_type": "markdown",
   "id": "65aeef8d",
   "metadata": {},
   "source": [
    "### Observations and Questions gained from calculating Pearson Corellation Coefficient between Average Temperature and Coffee Production:\n",
    "\n",
    "**Observations**\n",
    "- The Pearson correlation coefficient between average temperature and coffee production is approximately -0.04, indicating virtually no linear relationship.\n",
    "- The p-value of 0.71 shows this correlation is not statistically significant, suggesting any observed association is likely due to random chance.\n",
    "- Despite expectations that temperature might influence crop yield, this result implies that other factors may play a more significant role in affecting production.\n",
    "\n",
    "**Questions**\n",
    "- Could other weather variables like humidity, rainfall, or wind patterns have a stronger effect on production?\n",
    "- Is the relationship between temperature and coffee production nonlinear or affected by thresholds (e.g., extreme heat)?\n",
    "- Would analyzing subsets of the data by climate phase (e.g., El Niño vs. La Niña years) reveal stronger relationships?\n",
    "\n",
    "Additional Notes: \n",
    "- Exploring interaction effects or lagged impacts (e.g., previous year's temperature on this year’s yield) might yield more meaningful insights.\n",
    "- Consider building a multivariate regression model or visualizing the relationship to test for nonlinear trends.\n",
    "\n",
    "**Resources:**\n",
    "- weather_merged coffee production metrics."
   ]
  },
  {
   "cell_type": "code",
   "execution_count": 24,
   "id": "6db1fc26",
   "metadata": {},
   "outputs": [
    {
     "name": "stdout",
     "output_type": "stream",
     "text": [
      "Pearson correlation coefficient: -0.06\n",
      "P-value: 0.55\n"
     ]
    }
   ],
   "source": [
    "# Relationship between minimum humidity and 60kgs_bag, eg. How strong is the relationship?\n",
    "r_value, p_value = pearsonr(x=weather_merged['hum_min'], y=weather_merged['60kgs_bag'])\n",
    "print(f\"Pearson correlation coefficient: {r_value:.2f}\")\n",
    "print(f\"P-value: {p_value:.2f}\")"
   ]
  },
  {
   "cell_type": "markdown",
   "id": "55704855",
   "metadata": {},
   "source": [
    "### Observations and Questions gained from calculating Pearson Correlation Coefficient between Minimum Humidity and Coffee Production:\n",
    "\n",
    "**Observations**\n",
    "- The Pearson correlation coefficient is approximately -0.06, indicating a very weak negative linear relationship between minimum humidity and coffee production.\n",
    "- The p-value is ~0.55, which is well above the common significance threshold (0.05), meaning the result is not statistically significant.\n",
    "- This suggests that minimum humidity alone does not have a meaningful linear influence on production of 60kg coffee bags.\n",
    "\n",
    "**Questions**\n",
    "- Could maximum humidity or humidity range (difference between max and min) offer more predictive power?\n",
    "- Is there a nonlinear or threshold-based relationship—e.g., production drops only when humidity falls below a certain point?\n",
    "- Would combining humidity with temperature and rainfall as part of a multivariate analysis yield more insight?\n",
    "\n",
    "Additional Notes: \n",
    "- Despite intuitive expectations (e.g., that drier air harms crops), the data suggests no clear direct effect of minimum humidity on coffee yields in this dataset.\n",
    "- Exploring climate event overlays (e.g., drought years, high fungal outbreak years) to detect conditional effects.\n",
    "\n",
    "**Resources:**\n",
    "- weather_merged dataset\n",
    "- scipy.stats.pearsonr for linear correlation"
   ]
  },
  {
   "cell_type": "code",
   "execution_count": 25,
   "id": "9de33f9c",
   "metadata": {},
   "outputs": [
    {
     "name": "stdout",
     "output_type": "stream",
     "text": [
      "Pearson correlation coefficient: -0.02\n",
      "P-value: 0.82\n"
     ]
    }
   ],
   "source": [
    "# Relationship between maximum rainfall and 60kgs bag yield, eg. How strong is the relationship?\n",
    "r_value, p_value = pearsonr(x=weather_merged['rain_max'], y=weather_merged['60kgs_bag'])\n",
    "print(f\"Pearson correlation coefficient: {r_value:.2f}\")\n",
    "print(f\"P-value: {p_value:.2f}\")"
   ]
  },
  {
   "cell_type": "markdown",
   "id": "8ead296e",
   "metadata": {},
   "source": [
    "### Observations and Questions gained from calculating Pearson Correlatoin Coefficient between Maximum Rainfall and 60kgs Bag yield:\n",
    "\n",
    "**Observations**\n",
    "- The Pearson correlation coefficient is -0.02, indicating an extremely weak negative linear relationship between maximum rainfall and coffee production.\n",
    "- The p-value is 0.82, which is much higher than the typical 0.05 threshold — meaning the result is not statistically significant.\n",
    "- This suggests that peak rainfall events have virtually no measurable effect on annual coffee yield in this dataset.\n",
    "\n",
    "**Questions**\n",
    "- Would other rainfall metrics — like monthly averages, cumulative rainfall, or rain distribution over time — show stronger relationships?\n",
    "- Could extreme rainfall days, rather than just the maximum, cause localized damage or affect flowering stages?\n",
    "- Is it possible that rainfall interacts with other factors (e.g., soil saturation, drainage quality, or humidity) in a way not captured here?\n",
    "\n",
    "**Additional Notes:**\n",
    "- This finding does not rule out the importance of rainfall, but it implies that using rain_max alone is insufficient as a predictive variable for coffee yield.\n",
    "- In a tropical climate like Brazil’s — where high temperatures and variable rainfall are common — it's possible that irrigation systems or alternative watering practices are supplementing natural rainfall. This would reduce the direct impact of rain_max on coffee production.\n",
    "- Further investigation is needed to understand the role of watering infrastructure, especially in high-production regions. Evaluating access to irrigation, water retention systems, and soil moisture levels could offer more accurate insight into how water availability truly affects yield.\n",
    "\n",
    "**Resources:**"
   ]
  },
  {
   "cell_type": "code",
   "execution_count": 26,
   "id": "b91cd75d",
   "metadata": {},
   "outputs": [
    {
     "name": "stdout",
     "output_type": "stream",
     "text": [
      "Pearson correlation coefficient: -0.13\n",
      "P-value: 0.22\n"
     ]
    }
   ],
   "source": [
    "# Relationship between Maximum Wind Speed and 60kgs Bag yield, eg. How strong is the relationship?\n",
    "r_value, p_value = pearsonr(x=weather_merged['wind_max'], y=weather_merged['60kgs_bag'])\n",
    "print(f\"Pearson correlation coefficient: {r_value:.2f}\")\n",
    "print(f\"P-value: {p_value:.2f}\")"
   ]
  },
  {
   "cell_type": "markdown",
   "id": "324fd4c5",
   "metadata": {},
   "source": [
    "### Observations and Questions gained from calculating Pearson Correlation Coefficient between Maximum Wind Speed and 60kgs Bags:\n",
    "\n",
    "**Observations**\n",
    "- The Pearson correlation coefficient is -0.13, suggesting a very weak negative linear relationship between maximum wind speed and coffee yield (measured in 60kg bags).\n",
    "- The p-value (0.22) is greater than 0.05, meaning the result is not statistically significant, thus a claiming a real linear relationship exists based on this data cannot confidently be made.\n",
    "\n",
    "**Questions**\n",
    "- Could sudden wind bursts or storm events--rather than maximum values alone--be responsible for yield damage in certain years?\n",
    "- Is wind interacting with other variables--like humidity or flowering timing--in ways that can't be captured by correlation alone?\n",
    "- Might geographic factors play a stronger role than aggregate wind speed in affecting coffee production?\n",
    "\n",
    "Additional Notes: \n",
    "- As with rainfall, a single variable like wind_max might not capture the full picture. Temporal patterns, frequency of strong winds, or plant vulnerability windows may be much better indicators.\n",
    "- It would be great to evaluate seasonal wind patterns, or even using domain knowledge (e.g., flowering periods) to identify sensitive growth stages for deeper insights.\n",
    "\n",
    "**Resources:**"
   ]
  },
  {
   "cell_type": "code",
   "execution_count": 27,
   "id": "4fb735fe",
   "metadata": {},
   "outputs": [
    {
     "name": "stdout",
     "output_type": "stream",
     "text": [
      "Pearson correlation coefficient: -0.13\n",
      "P-value: 0.21\n"
     ]
    }
   ],
   "source": [
    "# Relationship between Maximum Wind Speed and 60kgs Bag yield, eg. How strong is the relationship?\n",
    "r_value, p_value = pearsonr(x=weather_merged['wind_avg'], y=weather_merged['60kgs_bag'])\n",
    "print(f\"Pearson correlation coefficient: {r_value:.2f}\")\n",
    "print(f\"P-value: {p_value:.2f}\")"
   ]
  },
  {
   "cell_type": "markdown",
   "id": "7555c5fb",
   "metadata": {},
   "source": [
    "### Observations and Questions gained from Pearson Correlation Coefficient between Average Temperature and 60kgs Bags:\n",
    "\n",
    "**Observations**\n",
    "- The Pearson correlation coefficient is -0.13, indicating a very weak negative relationship between average temperature and coffee production (in 60kg bags).\n",
    "- The p-value is 0.21, which is greater than 0.05, so the correlation is not statistically significant, meaning the relationship is purely by chance. \n",
    "\n",
    "**Questions**\n",
    "- Could extreme temperature values (outliers) be influencing the weak correlation?\n",
    "- Would looking at temperature ranges or thresholds (e.g., days above 30°C) offer more insight than the average?\n",
    "- How does temperature interact with other environmental variables like humidity or wind to impact yield?\n",
    "\n",
    "**Additional Notes:**\n",
    "- Consider visualizing the data with a scatter plot with temperature bins.\n",
    "- Investigating non-linear relationships--quadratic or piecewise--could also be helpful if the effect of temperature is not linear.\n",
    "\n",
    "**Resources:**"
   ]
  },
  {
   "cell_type": "code",
   "execution_count": 28,
   "id": "432c890e",
   "metadata": {},
   "outputs": [
    {
     "name": "stdout",
     "output_type": "stream",
     "text": [
      "Pearson correlation coefficient: 0.06\n",
      "P-value: 0.58\n"
     ]
    }
   ],
   "source": [
    "# Relationship between maximum humidity and 60kgs_bag, eg. How strong is the relationship?\n",
    "r_value, p_value = pearsonr(x=weather_merged['hum_max'], y=weather_merged['60kgs_bag'])\n",
    "print(f\"Pearson correlation coefficient: {r_value:.2f}\")\n",
    "print(f\"P-value: {p_value:.2f}\")"
   ]
  },
  {
   "cell_type": "markdown",
   "id": "e0fac237",
   "metadata": {},
   "source": [
    "### Observations and Questions gained from Pearson Correlation Coefficient between Maximum Humidity and 60kgs Bags:\n",
    "\n",
    "**Observations**\n",
    "- The Pearson correlation coefficient is 0.11, indicating a very weak positive linear relationship between maximum temperature and coffee production.\n",
    "- The p-value is 0.32, which means the correlation is not statistically significant, meaniny, observed relationship may be due to chance.\n",
    "- This would suggest maximum annual temperatures alone are not strong predictors of annual coffee yield.\n",
    "\n",
    "**Questions**\n",
    "- Could average temperature or number of extreme heat days show a stronger correlation??\n",
    "- Does elevation, shade management, or irrigation buffer the effects of extreme temperatures in some subdivisions?\n",
    "\n",
    "**Additional Notes:** \n",
    "- Visualizing scatterplots with a regression line and confidence interval may help to identify subtle patterns or interactions...\n",
    "\n",
    "**Resources:**"
   ]
  },
  {
   "cell_type": "code",
   "execution_count": 29,
   "id": "ee2398c0",
   "metadata": {},
   "outputs": [
    {
     "name": "stdout",
     "output_type": "stream",
     "text": [
      "Pearson correlation coefficient: -0.08\n",
      "P-value: 0.46\n"
     ]
    }
   ],
   "source": [
    "# Relationship between Minimum Humidity and 60kgs_bag, eg. How strong is the relationship?\n",
    "r_value, p_value = pearsonr(x=weather_merged['temp_min'], y=weather_merged['60kgs_bag'])\n",
    "print(f\"Pearson correlation coefficient: {r_value:.2f}\")\n",
    "print(f\"P-value: {p_value:.2f}\")"
   ]
  },
  {
   "cell_type": "markdown",
   "id": "6f686e65",
   "metadata": {},
   "source": [
    "### Observations and Questions gained from Pearson Correlation Coefficient between Minimum Temperature and 60kgs Bags:\n",
    "\n",
    "**Observations**\n",
    "- The Pearson correlation coefficient is -0.08, indicating a very weak negative linear relationship between minimum temperature and coffee yield.\n",
    "- The p-value is 0.46, which is above the 0.05 significance threshold — the result is not statistically significant.\n",
    "- This suggests that minimum annual temperature alone is not a meaningful predictor of annual coffee production in this dataset.\n",
    "\n",
    "**Questions**\n",
    "- Could extreme low temperatures during flowering or fruit development stages have more impact than the annual minimum?\n",
    "- Does minimum temperature affect yield differently across subdivisions depending on elevation or tree variety?\n",
    "- Would analyzing daily temperature range (diurnal variation) provide better insights into plant stress conditions?\n",
    "\n",
    "**Additional Notes:**\n",
    "- Arabica coffee is sensitive to cold stress, but a single yearly temp_min value might not capture short-term cold snaps or critical thresholds.\n",
    "- It may be helpful to explore frequency of days below 15°C, or model interaction effects between min temperature and humidity.\n",
    "- Yield variations may also stem from agricultural practices, tree maturity, or subdivision-specific microclimates not reflected in this correlation.\n",
    "\n",
    "**Resources:**"
   ]
  },
  {
   "cell_type": "code",
   "execution_count": 30,
   "id": "4561fb1f",
   "metadata": {},
   "outputs": [
    {
     "name": "stdout",
     "output_type": "stream",
     "text": [
      "Pearson correlation coefficient: 0.11\n",
      "P-value: 0.32\n"
     ]
    }
   ],
   "source": [
    "# Relationship between minimum humidity and 60kgs_bag, eg. How strong is the relationship?\n",
    "r_value, p_value = pearsonr(x=weather_merged['temp_max'], y=weather_merged['60kgs_bag'])\n",
    "print(f\"Pearson correlation coefficient: {r_value:.2f}\")\n",
    "print(f\"P-value: {p_value:.2f}\")"
   ]
  },
  {
   "cell_type": "code",
   "execution_count": 31,
   "id": "600fc17d",
   "metadata": {},
   "outputs": [
    {
     "name": "stdout",
     "output_type": "stream",
     "text": [
      "Pearson correlation coefficient: 0.44\n",
      "P-value: 0.00\n"
     ]
    }
   ],
   "source": [
    "# Relationship between minimum humidity and 60kgs_bag, eg. How strong is the relationship?\n",
    "r_value, p_value = pearsonr(x=weather_merged['temp_max'], y=weather_merged['bearing_trees'])\n",
    "print(f\"Pearson correlation coefficient: {r_value:.2f}\")\n",
    "print(f\"P-value: {p_value:.2f}\")"
   ]
  },
  {
   "cell_type": "code",
   "execution_count": 32,
   "id": "3a96c70c",
   "metadata": {},
   "outputs": [
    {
     "data": {
      "text/html": [
       "<style type=\"text/css\">\n",
       "#T_e340d_row0_col0, #T_e340d_row1_col1 {\n",
       "  background-color: #b40426;\n",
       "  color: #f1f1f1;\n",
       "}\n",
       "#T_e340d_row0_col1, #T_e340d_row1_col0 {\n",
       "  background-color: #3b4cc0;\n",
       "  color: #f1f1f1;\n",
       "}\n",
       "</style>\n",
       "<table id=\"T_e340d\">\n",
       "  <thead>\n",
       "    <tr>\n",
       "      <th class=\"blank level0\" >&nbsp;</th>\n",
       "      <th id=\"T_e340d_level0_col0\" class=\"col_heading level0 col0\" >temp_avg</th>\n",
       "      <th id=\"T_e340d_level0_col1\" class=\"col_heading level0 col1\" >bearing_trees</th>\n",
       "    </tr>\n",
       "  </thead>\n",
       "  <tbody>\n",
       "    <tr>\n",
       "      <th id=\"T_e340d_level0_row0\" class=\"row_heading level0 row0\" >temp_avg</th>\n",
       "      <td id=\"T_e340d_row0_col0\" class=\"data row0 col0\" >1.000000</td>\n",
       "      <td id=\"T_e340d_row0_col1\" class=\"data row0 col1\" >-0.427402</td>\n",
       "    </tr>\n",
       "    <tr>\n",
       "      <th id=\"T_e340d_level0_row1\" class=\"row_heading level0 row1\" >bearing_trees</th>\n",
       "      <td id=\"T_e340d_row1_col0\" class=\"data row1 col0\" >-0.427402</td>\n",
       "      <td id=\"T_e340d_row1_col1\" class=\"data row1 col1\" >1.000000</td>\n",
       "    </tr>\n",
       "  </tbody>\n",
       "</table>\n"
      ],
      "text/plain": [
       "<pandas.io.formats.style.Styler at 0x2016fb9d640>"
      ]
     },
     "execution_count": 32,
     "metadata": {},
     "output_type": "execute_result"
    }
   ],
   "source": [
    "weather_merged[['temp_avg', 'bearing_trees']].corr(method='pearson').style.background_gradient(cmap='coolwarm', axis=None)"
   ]
  },
  {
   "cell_type": "markdown",
   "id": "a33e1db5",
   "metadata": {},
   "source": [
    "## Reflections\n",
    "\n",
    "Answer each question based on the visualizations that you've generated.\n",
    "\n",
    "Remember, you must justify your answers with proof! Look back to W6D3 for more context."
   ]
  },
  {
   "cell_type": "markdown",
   "id": "fe46532b",
   "metadata": {},
   "source": [
    "What is the relationship between temp_avg and 60kgs_bag? How *strong* is this relationship? Use pearson's correlation coefficient.\n",
    "\n",
    "- The Pearson correlation coefficient between average temperature and coffee production is approximately -0.04, indicating virtually no linear relationship. The p-value of 0.71 shows this correlation is not statistically significant, suggesting any observed association is likely due to random chance. Despite my expectations that temperature might influence crop yield, this result implies that other factors may play a more significant role in affecting production."
   ]
  },
  {
   "cell_type": "markdown",
   "id": "ccd4f1e8",
   "metadata": {},
   "source": [
    "What is the relationship between minimum humidity and 60kgs_bag? How *strong* is this relationship? Use pearson's correlation coefficient.\n",
    "\n",
    "- The Pearson correlation coefficient is approximately -0.06, indicating a very weak negative linear relationship between minimum humidity and coffee production. The p-value is ~0.55, which is well above the common significance threshold (0.05), meaning the result is not statistically significant. This suggests that minimum humidity alone does not have a meaningful linear influence on production of 60kg coffee bags."
   ]
  },
  {
   "cell_type": "markdown",
   "id": "0b500aa4",
   "metadata": {},
   "source": [
    "What is the relationship between rain_max and 60kgs_bag? How *strong* is this relationship? Use pearson's correlation coefficient.\n",
    "\n",
    "- The Pearson correlation coefficient is -0.02, indicating an extremely weak negative linear relationship between maximum rainfall and coffee production. The p-value is 0.82, which is much higher than the typical 0.05 threshold — meaning the result is not statistically significant. This suggests that peak rainfall events have virtually no measurable effect on annual coffee yield in this dataset.\n"
   ]
  },
  {
   "cell_type": "markdown",
   "id": "be3dab9c",
   "metadata": {},
   "source": [
    "What is the relationship between average wind speed and 60kgs_bag? How *strong* is this relationship? Use pearson's correlation coefficient.\n",
    "\n",
    "- The Pearson Correlation Coefficient is -0.13, indicating a very weak negative relationship between average temperature and coffee production (in 60kg bags). The p-value is 0.21, which is greater than 0.05, so the correlation is not statistically significant, meaning the relationship is purely by chance. "
   ]
  },
  {
   "cell_type": "markdown",
   "id": "ee6ea06a",
   "metadata": {},
   "source": [
    "Perform the same bivariate analysis between the mentioned weather columns (temp_avg, hum_min, rain_max, and wind_avg) and a coffee-related column of your choice (bearing_trees, nonbearing_trees, bearing_trees_per_hectare, etc). Which directions do these relationships follow? What are the strengths of these relationships?\n",
    "\n",
    "- The Pearson correlation coefficient is -0.08, indicating a very weak negative linear relationship between minimum temperature and coffee yield. The p-value is 0.46, which is above the 0.05 significance threshold — the result is not statistically significant. This suggests that minimum annual temperature alone is not a meaningful predictor of annual coffee production.\n"
   ]
  },
  {
   "cell_type": "markdown",
   "id": "18ba1ed2",
   "metadata": {},
   "source": [
    "Which weather factor seems to influence coffee production the most? \n",
    "\n",
    "- I based on the EDA I've done so far, bearing hectares, wind max, and max temp have the most impact on production. This aligns with the overall notion of farming. High winds help with insects, germs, etc... "
   ]
  },
  {
   "cell_type": "markdown",
   "id": "95e8c38b",
   "metadata": {},
   "source": [
    "Which data would you collect to continue exploring the impacts of weather and economic forces on coffee production?\n",
    "\n",
    "- There are a number of weather and environmental data, like droup condition readings, watering data, atmoshperic pressure data, metadata readings, and monthly or daily readings of the existing dataset as well as those mentioned. "
   ]
  },
  {
   "cell_type": "markdown",
   "id": "0ca6f497",
   "metadata": {},
   "source": [
    "If you were preparing a report to provide coffee farmers, which weather condititions would you state are the most favorable for coffee growing (assuming any exist)?\n",
    "\n",
    "- Based on Statistical analysis/EDA done on various weather conditions and coffee production data, such as bearing hectares, million per bags of coffee produced, etc. The insights gained from this endeavor, showed that bearing hectares or field size, high winds, and relatively high temperatures have the most impact on coffee production. "
   ]
  }
 ],
 "metadata": {
  "kernelspec": {
   "display_name": "ds",
   "language": "python",
   "name": "python3"
  },
  "language_info": {
   "codemirror_mode": {
    "name": "ipython",
    "version": 3
   },
   "file_extension": ".py",
   "mimetype": "text/x-python",
   "name": "python",
   "nbconvert_exporter": "python",
   "pygments_lexer": "ipython3",
   "version": "3.12.9"
  }
 },
 "nbformat": 4,
 "nbformat_minor": 5
}
