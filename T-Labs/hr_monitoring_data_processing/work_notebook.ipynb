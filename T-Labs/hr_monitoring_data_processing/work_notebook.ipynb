{
 "cells": [
  {
   "cell_type": "markdown",
   "metadata": {},
   "source": [
    "## Work book"
   ]
  },
  {
   "cell_type": "code",
   "execution_count": null,
   "metadata": {},
   "outputs": [],
   "source": [
    "import matplotlib.pyplot as plt\n",
    "import numpy as np\n",
    "import pandas as pd\n",
    "import seaborn as sns\n",
    "%matplotlib inline\n"
   ]
  },
  {
   "cell_type": "code",
   "execution_count": 26,
   "metadata": {},
   "outputs": [
    {
     "name": "stdout",
     "output_type": "stream",
     "text": [
      "[69, 75, 84, 79, 72, 69, 93, 91, 72, 76, 69, 71, 60, 63, 67, 58, 63, 61, 65, 66, 62, 67, 61, 63, 61, 78, 62, 60, 59, 75, 65, 64, 60, 60, 63, 62, 68, 63, 61, 66, 60, 56, 56, 54, 54, 54, 79, 68, 55, 55, 56, 67, 58, 62, 60, 62, 70, 60, 55, 55, 57, 57, 56]\n"
     ]
    }
   ],
   "source": [
    "# This way/variant doesn't automatically close the file after reading it. \n",
    "#phase0_file = open('data/phase0.txt', 'r')\n",
    "#Phase0_lines = phase0_file.readlines()\n",
    "\n",
    "# This variaan on the other hand automatically closes the file after reading it.\n",
    "with open('data/phase0.txt', 'r') as phase0_file:\n",
    "    phase0_lines = phase0_file.readlines()\n",
    "\n",
    "\n",
    "def filter_nondigits(data: list) -> list:\n",
    "    \"\"\"\n",
    "    filter_nondigits() takes in a list of strings and filters\n",
    "    out all strings that include non-integer elements.\n",
    "\n",
    "    Args:    \n",
    "        data (list): A list of strings elements.\n",
    "\n",
    "    Returns:\n",
    "        list: A list of strings of type int elements.          \n",
    "    \"\"\"    \n",
    "    \n",
    "    clean_list = []  # Initialize empty list to store permissible elements.\n",
    "    for element in data:  # Iterate over list of strings.\n",
    "        # remove newline characters from the string.\n",
    "        clean_element = element.strip()\n",
    "        # Check if element is a digit.        \n",
    "        if clean_element.isdigit():  \n",
    "            clean_list.append(int(element))  # Convert string to permissible element  and append list.\n",
    "    return clean_list  # Return list of permissible elements.\n",
    "#print(filter_nondigits(Phase0_lines))\n",
    "print(filter_nondigits(phase0_lines))\n",
    "\n",
    "       \n"
   ]
  },
  {
   "cell_type": "code",
   "execution_count": 7,
   "metadata": {},
   "outputs": [
    {
     "name": "stdout",
     "output_type": "stream",
     "text": [
      "[]\n"
     ]
    }
   ],
   "source": [
    "print(filter_nondigits(file))"
   ]
  },
  {
   "cell_type": "code",
   "execution_count": null,
   "metadata": {},
   "outputs": [],
   "source": []
  }
 ],
 "metadata": {
  "kernelspec": {
   "display_name": "kaggle-env",
   "language": "python",
   "name": "python3"
  },
  "language_info": {
   "codemirror_mode": {
    "name": "ipython",
    "version": 3
   },
   "file_extension": ".py",
   "mimetype": "text/x-python",
   "name": "python",
   "nbconvert_exporter": "python",
   "pygments_lexer": "ipython3",
   "version": "3.12.7"
  }
 },
 "nbformat": 4,
 "nbformat_minor": 2
}
