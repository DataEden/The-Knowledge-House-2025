{
 "cells": [
  {
   "cell_type": "markdown",
   "id": "63d0a69d",
   "metadata": {},
   "source": [
    "<p align=\"center\">\n",
    "<img src=\"../image/acs_coffee_stress_co2_adequate_water_supply_2018.png\" alt=\"ACS Publications: https://pubs.acs.org/doi/10.1021/acs.jafc.7b04537\"  width=\"50%\">\n",
    "\n",
    "<p><h6> \"Evidence is shown suggesting that warming, per se, may be less harmful to coffee suitability than previously estimated, at least under the conditions of an adequate water supply.\"\n",
    "</p></h6>\n",
    "<h6> From ACS Publications: \n",
    "<a href=\"https://pubs.acs.org/doi/10.1021/acs.jafc.7b04537\">https://pubs.acs.org/doi/10.1021/acs.jafc.7b04537</a>\n",
    "</h6>\n",
    "</p>\n"
   ]
  },
  {
   "cell_type": "markdown",
   "id": "7d39b1a1",
   "metadata": {},
   "source": [
    "# Analysis\n",
    "\n",
    "Create your own EDA below! Create as many code-blocks as you need.\n",
    "\n",
    "Once you've completed your EDA, complete the section titled **Reflections** where you will answer questions about your EDA."
   ]
  },
  {
   "cell_type": "code",
   "execution_count": 1,
   "id": "6655a736",
   "metadata": {},
   "outputs": [],
   "source": [
    "# Import necessary libraries\n",
    "from scipy.stats import pearsonr # for correlation calculation\n",
    "import pandas as pd # for data manipulation using DataFrames\n",
    "import numpy as np # for numerical operations \n",
    "\n",
    "import seaborn as sns # for data visualization \n",
    "import matplotlib.pyplot as plt # for data visualization\n",
    "import matplotlib.ticker as ticks # for axis formatting\n",
    "import plotly.express as px # for interactive plots\n",
    "import math # for mathematical operations not found in numpy or native python..."
   ]
  },
  {
   "cell_type": "code",
   "execution_count": 2,
   "id": "868ea7cd",
   "metadata": {},
   "outputs": [],
   "source": [
    "# import coffee data\n",
    "coffee = pd.read_csv(\"../data/crop/coffee_output.csv\")\n",
    "# import weather data\n",
    "weather = pd.read_csv(\"../data/weather/weather_concat.csv\")"
   ]
  },
  {
   "cell_type": "code",
   "execution_count": 4,
   "id": "71bfd191",
   "metadata": {},
   "outputs": [],
   "source": [
    "# TODO: Merge these two dataframes together \\\n",
    "weather_merged = weather.merge(coffee, how='inner', left_on='year', right_on='year')\n"
   ]
  },
  {
   "cell_type": "code",
   "execution_count": null,
   "id": "44f435eb",
   "metadata": {},
   "outputs": [
    {
     "data": {
      "text/html": [
       "<div>\n",
       "<style scoped>\n",
       "    .dataframe tbody tr th:only-of-type {\n",
       "        vertical-align: middle;\n",
       "    }\n",
       "\n",
       "    .dataframe tbody tr th {\n",
       "        vertical-align: top;\n",
       "    }\n",
       "\n",
       "    .dataframe thead th {\n",
       "        text-align: right;\n",
       "    }\n",
       "</style>\n",
       "<table border=\"1\" class=\"dataframe\">\n",
       "  <thead>\n",
       "    <tr style=\"text-align: right;\">\n",
       "      <th></th>\n",
       "      <th>year</th>\n",
       "      <th>rain_max</th>\n",
       "      <th>temp_avg</th>\n",
       "      <th>temp_max</th>\n",
       "      <th>temp_min</th>\n",
       "      <th>hum_max</th>\n",
       "      <th>hum_min</th>\n",
       "      <th>wind_max</th>\n",
       "      <th>wind_avg</th>\n",
       "      <th>subdivision_x</th>\n",
       "      <th>country</th>\n",
       "      <th>subdivision_y</th>\n",
       "      <th>type</th>\n",
       "      <th>60kgs_bag</th>\n",
       "      <th>nonbearing_trees</th>\n",
       "      <th>bearing_trees</th>\n",
       "      <th>nonbear_hectares</th>\n",
       "      <th>bearing_hectares</th>\n",
       "      <th>bearing_trees_per_hectare</th>\n",
       "      <th>nonbearing_trees_per_hectare</th>\n",
       "    </tr>\n",
       "  </thead>\n",
       "  <tbody>\n",
       "    <tr>\n",
       "      <th>0</th>\n",
       "      <td>2006</td>\n",
       "      <td>6.670968</td>\n",
       "      <td>21.803087</td>\n",
       "      <td>27.190323</td>\n",
       "      <td>18.654839</td>\n",
       "      <td>97.129032</td>\n",
       "      <td>57.806452</td>\n",
       "      <td>9.706452</td>\n",
       "      <td>2.075207</td>\n",
       "      <td>Minas Gerais</td>\n",
       "      <td>Brazil</td>\n",
       "      <td>Minas Gerais</td>\n",
       "      <td>Arabica</td>\n",
       "      <td>16.3</td>\n",
       "      <td>581.0</td>\n",
       "      <td>5330.0</td>\n",
       "      <td>175.0</td>\n",
       "      <td>2298.0</td>\n",
       "      <td>2319.0</td>\n",
       "      <td>3320.0</td>\n",
       "    </tr>\n",
       "    <tr>\n",
       "      <th>1</th>\n",
       "      <td>2006</td>\n",
       "      <td>6.670968</td>\n",
       "      <td>21.803087</td>\n",
       "      <td>27.190323</td>\n",
       "      <td>18.654839</td>\n",
       "      <td>97.129032</td>\n",
       "      <td>57.806452</td>\n",
       "      <td>9.706452</td>\n",
       "      <td>2.075207</td>\n",
       "      <td>Minas Gerais</td>\n",
       "      <td>Brazil</td>\n",
       "      <td>Espirito Santo</td>\n",
       "      <td>Arabica</td>\n",
       "      <td>2.2</td>\n",
       "      <td>581.0</td>\n",
       "      <td>5330.0</td>\n",
       "      <td>175.0</td>\n",
       "      <td>2298.0</td>\n",
       "      <td>2319.0</td>\n",
       "      <td>3320.0</td>\n",
       "    </tr>\n",
       "    <tr>\n",
       "      <th>2</th>\n",
       "      <td>2006</td>\n",
       "      <td>6.670968</td>\n",
       "      <td>21.803087</td>\n",
       "      <td>27.190323</td>\n",
       "      <td>18.654839</td>\n",
       "      <td>97.129032</td>\n",
       "      <td>57.806452</td>\n",
       "      <td>9.706452</td>\n",
       "      <td>2.075207</td>\n",
       "      <td>Minas Gerais</td>\n",
       "      <td>Brazil</td>\n",
       "      <td>Espirito Santo</td>\n",
       "      <td>Robusta</td>\n",
       "      <td>6.2</td>\n",
       "      <td>581.0</td>\n",
       "      <td>5330.0</td>\n",
       "      <td>175.0</td>\n",
       "      <td>2298.0</td>\n",
       "      <td>2319.0</td>\n",
       "      <td>3320.0</td>\n",
       "    </tr>\n",
       "    <tr>\n",
       "      <th>3</th>\n",
       "      <td>2006</td>\n",
       "      <td>6.670968</td>\n",
       "      <td>21.803087</td>\n",
       "      <td>27.190323</td>\n",
       "      <td>18.654839</td>\n",
       "      <td>97.129032</td>\n",
       "      <td>57.806452</td>\n",
       "      <td>9.706452</td>\n",
       "      <td>2.075207</td>\n",
       "      <td>Minas Gerais</td>\n",
       "      <td>Brazil</td>\n",
       "      <td>Sao Paulo</td>\n",
       "      <td>Arabica</td>\n",
       "      <td>3.3</td>\n",
       "      <td>581.0</td>\n",
       "      <td>5330.0</td>\n",
       "      <td>175.0</td>\n",
       "      <td>2298.0</td>\n",
       "      <td>2319.0</td>\n",
       "      <td>3320.0</td>\n",
       "    </tr>\n",
       "    <tr>\n",
       "      <th>4</th>\n",
       "      <td>2006</td>\n",
       "      <td>6.670968</td>\n",
       "      <td>21.803087</td>\n",
       "      <td>27.190323</td>\n",
       "      <td>18.654839</td>\n",
       "      <td>97.129032</td>\n",
       "      <td>57.806452</td>\n",
       "      <td>9.706452</td>\n",
       "      <td>2.075207</td>\n",
       "      <td>Minas Gerais</td>\n",
       "      <td>Brazil</td>\n",
       "      <td>Parana</td>\n",
       "      <td>Arabica</td>\n",
       "      <td>1.8</td>\n",
       "      <td>581.0</td>\n",
       "      <td>5330.0</td>\n",
       "      <td>175.0</td>\n",
       "      <td>2298.0</td>\n",
       "      <td>2319.0</td>\n",
       "      <td>3320.0</td>\n",
       "    </tr>\n",
       "  </tbody>\n",
       "</table>\n",
       "</div>"
      ],
      "text/plain": [
       "   year  rain_max   temp_avg   temp_max   temp_min    hum_max    hum_min  \\\n",
       "0  2006  6.670968  21.803087  27.190323  18.654839  97.129032  57.806452   \n",
       "1  2006  6.670968  21.803087  27.190323  18.654839  97.129032  57.806452   \n",
       "2  2006  6.670968  21.803087  27.190323  18.654839  97.129032  57.806452   \n",
       "3  2006  6.670968  21.803087  27.190323  18.654839  97.129032  57.806452   \n",
       "4  2006  6.670968  21.803087  27.190323  18.654839  97.129032  57.806452   \n",
       "\n",
       "   wind_max  wind_avg subdivision_x country   subdivision_y     type  \\\n",
       "0  9.706452  2.075207  Minas Gerais  Brazil    Minas Gerais  Arabica   \n",
       "1  9.706452  2.075207  Minas Gerais  Brazil  Espirito Santo  Arabica   \n",
       "2  9.706452  2.075207  Minas Gerais  Brazil  Espirito Santo  Robusta   \n",
       "3  9.706452  2.075207  Minas Gerais  Brazil       Sao Paulo  Arabica   \n",
       "4  9.706452  2.075207  Minas Gerais  Brazil          Parana  Arabica   \n",
       "\n",
       "   60kgs_bag  nonbearing_trees  bearing_trees  nonbear_hectares  \\\n",
       "0       16.3             581.0         5330.0             175.0   \n",
       "1        2.2             581.0         5330.0             175.0   \n",
       "2        6.2             581.0         5330.0             175.0   \n",
       "3        3.3             581.0         5330.0             175.0   \n",
       "4        1.8             581.0         5330.0             175.0   \n",
       "\n",
       "   bearing_hectares  bearing_trees_per_hectare  nonbearing_trees_per_hectare  \n",
       "0            2298.0                     2319.0                        3320.0  \n",
       "1            2298.0                     2319.0                        3320.0  \n",
       "2            2298.0                     2319.0                        3320.0  \n",
       "3            2298.0                     2319.0                        3320.0  \n",
       "4            2298.0                     2319.0                        3320.0  "
      ]
     },
     "execution_count": 8,
     "metadata": {},
     "output_type": "execute_result"
    }
   ],
   "source": [
    "# TODO: View the first 5 rows of your data\n",
    "\n",
    "weather_merged.head()\n"
   ]
  },
  {
   "cell_type": "code",
   "execution_count": 20,
   "id": "9600b65c",
   "metadata": {},
   "outputs": [
    {
     "data": {
      "text/plain": [
       "year                            0\n",
       "rain_max                        0\n",
       "temp_avg                        0\n",
       "temp_max                        0\n",
       "temp_min                        0\n",
       "hum_max                         0\n",
       "hum_min                         0\n",
       "wind_max                        0\n",
       "wind_avg                        0\n",
       "subdivision_x                   0\n",
       "country                         0\n",
       "subdivision_y                   0\n",
       "type                            0\n",
       "60kgs_bag                       0\n",
       "nonbearing_trees                5\n",
       "bearing_trees                   5\n",
       "nonbear_hectares                5\n",
       "bearing_hectares                5\n",
       "bearing_trees_per_hectare       5\n",
       "nonbearing_trees_per_hectare    5\n",
       "dtype: int64"
      ]
     },
     "execution_count": 20,
     "metadata": {},
     "output_type": "execute_result"
    }
   ],
   "source": [
    "# TODO: Check for null values \n",
    "weather_merged.isna().sum()\n"
   ]
  },
  {
   "cell_type": "code",
   "execution_count": 21,
   "id": "ff411571",
   "metadata": {},
   "outputs": [],
   "source": [
    "# TODO: Drop rows that contain null values\n",
    "\n",
    "weather_merged.dropna(inplace=True)"
   ]
  },
  {
   "cell_type": "code",
   "execution_count": 22,
   "id": "22fd1940",
   "metadata": {},
   "outputs": [
    {
     "data": {
      "text/plain": [
       "([0, 1, 2, 3],\n",
       " [Text(0, 0, 'Minas Gerais'),\n",
       "  Text(1, 0, 'Espirito Santo'),\n",
       "  Text(2, 0, 'Sao Paulo'),\n",
       "  Text(3, 0, 'Parana')])"
      ]
     },
     "execution_count": 22,
     "metadata": {},
     "output_type": "execute_result"
    },
    {
     "data": {
      "image/png": "[encoded data removed]",
      "text/plain": [
       "<Figure size 1300x800 with 1 Axes>"
      ]
     },
     "metadata": {},
     "output_type": "display_data"
    }
   ],
   "source": [
    "# TODO: BEGIN YOUR EDA!\n",
    "# 60kgs bag Per Subdivision.\n",
    "plt.figure(figsize=(13, 8))\n",
    "sns.boxplot(data=weather_merged, x='subdivision_y', y='60kgs_bag')\n",
    "plt.ylabel('60kgs bag')\n",
    "plt.xlabel('Subdivision')\n",
    "plt.title('Coffee Production by Subdivision')\n",
    "plt.xticks(rotation=45)\n"
   ]
  },
  {
   "cell_type": "markdown",
   "id": "907ec128",
   "metadata": {},
   "source": [
    "### Observations and Questions gained from line plot of Maximum Temperature Over Time:\n",
    "\n",
    "**Observations**\n",
    "- A\n",
    "\n",
    "**Questions**\n",
    "- A\n",
    "\n",
    "Additional Notes: \n",
    "- A\n",
    "\n",
    "**Resources:**"
   ]
  },
  {
   "cell_type": "code",
   "execution_count": 27,
   "id": "82f2deee",
   "metadata": {},
   "outputs": [
    {
     "data": {
      "text/plain": [
       "([0, 1, 2, 3, 4, 5, 6, 7, 8, 9, 10, 11, 12, 13, 14, 15, 16],\n",
       " [Text(0, 0, '2006'),\n",
       "  Text(1, 0, '2007'),\n",
       "  Text(2, 0, '2008'),\n",
       "  Text(3, 0, '2009'),\n",
       "  Text(4, 0, '2010'),\n",
       "  Text(5, 0, '2011'),\n",
       "  Text(6, 0, '2012'),\n",
       "  Text(7, 0, '2013'),\n",
       "  Text(8, 0, '2014'),\n",
       "  Text(9, 0, '2015'),\n",
       "  Text(10, 0, '2016'),\n",
       "  Text(11, 0, '2017'),\n",
       "  Text(12, 0, '2019'),\n",
       "  Text(13, 0, '2020'),\n",
       "  Text(14, 0, '2021'),\n",
       "  Text(15, 0, '2022'),\n",
       "  Text(16, 0, '2023')])"
      ]
     },
     "execution_count": 27,
     "metadata": {},
     "output_type": "execute_result"
    },
    {
     "data": {
      "image/png": "[encoded data removed]",
      "text/plain": [
       "<Figure size 640x480 with 1 Axes>"
      ]
     },
     "metadata": {},
     "output_type": "display_data"
    }
   ],
   "source": [
    "# TODO: BEGIN YOUR EDA!\n",
    "# 60kgs bag Per Subdivision.\n",
    "\n",
    "sns.boxplot(data=weather_merged, x='year', y='60kgs_bag')\n",
    "plt.ylabel('60kgs bag')\n",
    "plt.xlabel('Years')\n",
    "plt.title('Coffee Production Over Time')\n",
    "plt.xticks(rotation=45)\n"
   ]
  },
  {
   "cell_type": "markdown",
   "id": "eb22ae53",
   "metadata": {},
   "source": [
    "### Observations and Questions gained from line plot of Maximum Temperature Over Time:\n",
    "\n",
    "**Observations**\n",
    "- Coffee production generally increased from 2006 to 2023, with the median yield rising steadily over time.\n",
    "- Early years (2006–2011) show relatively stable production with tight interquartile ranges and few outliers.\n",
    "- From 2012 onward, the boxes become taller, indicating increased variability in coffee output.\n",
    "- 2017 shows a noticeable dip in median coffee production, followed by strong recovery in subsequent years.\n",
    "- The period between 2018 and 2023 reveals a combination of growth and increased spread, meaning while production increased, outcomes were more diverse across regions or farms.\n",
    "- Frequent outliers in several years suggest exceptional harvests or reporting anomalies—e.g., values significantly higher than typical for that year.\n",
    "\n",
    "**Questions**\n",
    "- What environmental or economic factors led to the production dip in 2017?\n",
    "- Why did variability increase so sharply after 2018? Could this reflect differing regional outcomes, technology adoption, or climate effects?\n",
    "- Are the frequent high outliers indicative of a small group of high-yield farms, or changes in reporting and measurement?\n",
    "\n",
    "Additional Notes: \n",
    "- The steady upward trend in medians supports the notion of growing capacity or efficiency in coffee production, possibly linked to technology, better cultivation practices, or favorable climate conditions.\n",
    "- The rising variability may call for further segmentation by region, variety, or environmental conditions to better understand performance drivers.\n",
    "- This analysis could benefit from being cross-referenced with climate data (e.g., rainfall, temperature) to find deeper correlations.\n",
    "\n",
    "**Resources:**"
   ]
  },
  {
   "cell_type": "code",
   "execution_count": 33,
   "id": "08ded574",
   "metadata": {},
   "outputs": [
    {
     "name": "stdout",
     "output_type": "stream",
     "text": [
      "Pearson correlation coefficient: -0.03999214052131974\n",
      "P-value: 0.7098180176622242\n"
     ]
    }
   ],
   "source": [
    "# Relationship between temp_avg and 60kgs_bag, eg. How strong is the relationship?\n",
    "r_value, p_value = pearsonr(x=weather_merged['temp_avg'], y=weather_merged['60kgs_bag'])\n",
    "print(f\"Pearson correlation coefficient: {r_value}\")\n",
    "print(f\"P-value: {p_value}\")"
   ]
  },
  {
   "cell_type": "markdown",
   "id": "65aeef8d",
   "metadata": {},
   "source": [
    "### Observations and Questions gained from calculating Pearson Coefficient of Average Temperature and Coffee Production:\n",
    "\n",
    "**Observations**\n",
    "- The Pearson correlation coefficient between average temperature and coffee production is approximately -0.04, indicating virtually no linear relationship.\n",
    "- The p-value of 0.71 shows this correlation is not statistically significant, suggesting any observed association is likely due to random chance.\n",
    "- Despite expectations that temperature might influence crop yield, this result implies that other factors may play a more significant role in affecting production.\n",
    "\n",
    "**Questions**\n",
    "- Could other weather variables like humidity, rainfall, or wind patterns have a stronger effect on production?\n",
    "- Is the relationship between temperature and coffee production nonlinear or affected by thresholds (e.g., extreme heat)?\n",
    "- Would analyzing subsets of the data by climate phase (e.g., El Niño vs. La Niña years) reveal stronger relationships?\n",
    "\n",
    "Additional Notes: \n",
    "- Exploring interaction effects or lagged impacts (e.g., previous year's temperature on this year’s yield) might yield more meaningful insights.\n",
    "- Consider building a multivariate regression model or visualizing the relationship to test for nonlinear trends.\n",
    "\n",
    "**Resources:**\n",
    "- weather_merged coffee production metrics."
   ]
  },
  {
   "cell_type": "code",
   "execution_count": 34,
   "id": "6db1fc26",
   "metadata": {},
   "outputs": [
    {
     "name": "stdout",
     "output_type": "stream",
     "text": [
      "Pearson correlation coefficient: -0.06428185961069212\n",
      "P-value: 0.5495194038620903\n"
     ]
    }
   ],
   "source": [
    "# Relationship between minimum humidity and 60kgs_bag, eg. How strong is the relationship?\n",
    "r_value, p_value = pearsonr(x=weather_merged['hum_min'], y=weather_merged['60kgs_bag'])\n",
    "print(f\"Pearson correlation coefficient: {r_value}\")\n",
    "print(f\"P-value: {p_value}\")"
   ]
  },
  {
   "cell_type": "markdown",
   "id": "55704855",
   "metadata": {},
   "source": [
    "### Observations and Questions gained from calculating Pearson Coefficient of Minimum Humidity and Coffee Production:\n",
    "\n",
    "**Observations**\n",
    "- The Pearson correlation coefficient is approximately -0.06, indicating a very weak negative linear relationship between minimum humidity and coffee production.\n",
    "- The p-value is ~0.55, which is well above the common significance threshold (0.05), meaning the result is not statistically significant.\n",
    "- This suggests that minimum humidity alone does not have a meaningful linear influence on production of 60kg coffee bags.\n",
    "\n",
    "**Questions**\n",
    "- Could maximum humidity or humidity range (difference between max and min) offer more predictive power?\n",
    "- Is there a nonlinear or threshold-based relationship—e.g., production drops only when humidity falls below a certain point?\n",
    "- Would combining humidity with temperature and rainfall as part of a multivariate analysis yield more insight?\n",
    "\n",
    "Additional Notes: \n",
    "- Despite intuitive expectations (e.g., that drier air harms crops), the data suggests no clear direct effect of minimum humidity on coffee yields in this dataset.\n",
    "- Exploring climate event overlays (e.g., drought years, high fungal outbreak years) to detect conditional effects.\n",
    "\n",
    "**Resources:**\n",
    "- weather_merged dataset\n",
    "- scipy.stats.pearsonr for linear correlation"
   ]
  },
  {
   "cell_type": "code",
   "execution_count": 36,
   "id": "9de33f9c",
   "metadata": {},
   "outputs": [
    {
     "name": "stdout",
     "output_type": "stream",
     "text": [
      "Pearson correlation coefficient: -0.02407033728653124\n",
      "P-value: 0.822834014623461\n"
     ]
    }
   ],
   "source": [
    "# Relationship between minimum humidity and 60kgs_bag, eg. How strong is the relationship?\n",
    "r_value, p_value = pearsonr(x=weather_merged['rain_max'], y=weather_merged['60kgs_bag'])\n",
    "print(f\"Pearson correlation coefficient: {r_value}\")\n",
    "print(f\"P-value: {p_value}\")"
   ]
  },
  {
   "cell_type": "markdown",
   "id": "8ead296e",
   "metadata": {},
   "source": [
    "### Observations and Questions gained from line plot of Maximum Temperature Over Time:\n",
    "\n",
    "**Observations**\n",
    "- A\n",
    "\n",
    "**Questions**\n",
    "- A\n",
    "\n",
    "Additional Notes: \n",
    "- A\n",
    "\n",
    "**Resources:**"
   ]
  },
  {
   "cell_type": "code",
   "execution_count": 37,
   "id": "b91cd75d",
   "metadata": {},
   "outputs": [
    {
     "name": "stdout",
     "output_type": "stream",
     "text": [
      "Pearson correlation coefficient: -0.1318990733926902\n",
      "P-value: 0.2178989779379805\n"
     ]
    }
   ],
   "source": [
    "# Relationship between minimum humidity and 60kgs_bag, eg. How strong is the relationship?\n",
    "r_value, p_value = pearsonr(x=weather_merged['wind_max'], y=weather_merged['60kgs_bag'])\n",
    "print(f\"Pearson correlation coefficient: {r_value}\")\n",
    "print(f\"P-value: {p_value}\")"
   ]
  },
  {
   "cell_type": "code",
   "execution_count": null,
   "id": "4fb735fe",
   "metadata": {},
   "outputs": [],
   "source": []
  },
  {
   "cell_type": "markdown",
   "id": "7555c5fb",
   "metadata": {},
   "source": [
    "### Observations and Questions gained from line plot of Maximum Temperature Over Time:\n",
    "\n",
    "**Observations**\n",
    "- A\n",
    "\n",
    "**Questions**\n",
    "- A\n",
    "\n",
    "Additional Notes: \n",
    "- A\n",
    "\n",
    "**Resources:**"
   ]
  },
  {
   "cell_type": "code",
   "execution_count": 38,
   "id": "432c890e",
   "metadata": {},
   "outputs": [
    {
     "name": "stdout",
     "output_type": "stream",
     "text": [
      "Pearson correlation coefficient: 0.06010932581286241\n",
      "P-value: 0.5757794738757601\n"
     ]
    }
   ],
   "source": [
    "# Relationship between minimum humidity and 60kgs_bag, eg. How strong is the relationship?\n",
    "r_value, p_value = pearsonr(x=weather_merged['hum_max'], y=weather_merged['60kgs_bag'])\n",
    "print(f\"Pearson correlation coefficient: {r_value}\")\n",
    "print(f\"P-value: {p_value}\")"
   ]
  },
  {
   "cell_type": "markdown",
   "id": "e0fac237",
   "metadata": {},
   "source": [
    "### Observations and Questions gained from line plot of Maximum Temperature Over Time:\n",
    "\n",
    "**Observations**\n",
    "- A\n",
    "\n",
    "**Questions**\n",
    "- A\n",
    "\n",
    "Additional Notes: \n",
    "- A\n",
    "\n",
    "**Resources:**"
   ]
  },
  {
   "cell_type": "code",
   "execution_count": 39,
   "id": "ee2398c0",
   "metadata": {},
   "outputs": [
    {
     "name": "stdout",
     "output_type": "stream",
     "text": [
      "Pearson correlation coefficient: 0.10700479993727012\n",
      "P-value: 0.3182406400491894\n"
     ]
    }
   ],
   "source": [
    "# Relationship between minimum humidity and 60kgs_bag, eg. How strong is the relationship?\n",
    "r_value, p_value = pearsonr(x=weather_merged['temp_max'], y=weather_merged['60kgs_bag'])\n",
    "print(f\"Pearson correlation coefficient: {r_value}\")\n",
    "print(f\"P-value: {p_value}\")"
   ]
  },
  {
   "cell_type": "code",
   "execution_count": 43,
   "id": "949ca374",
   "metadata": {},
   "outputs": [
    {
     "name": "stdout",
     "output_type": "stream",
     "text": [
      "Pearson correlation coefficient: 0.43763795685499196\n",
      "P-value: 1.7973781999300976e-05\n"
     ]
    }
   ],
   "source": [
    "# Relationship between minimum humidity and 60kgs_bag, eg. How strong is the relationship?\n",
    "r_value, p_value = pearsonr(x=weather_merged['temp_max'], y=weather_merged['bearing_trees'])\n",
    "print(f\"Pearson correlation coefficient: {r_value}\")\n",
    "print(f\"P-value: {p_value}\")"
   ]
  },
  {
   "cell_type": "code",
   "execution_count": 42,
   "id": "77ab7231",
   "metadata": {},
   "outputs": [
    {
     "data": {
      "text/html": [
       "<style type=\"text/css\">\n",
       "#T_38d90_row0_col0, #T_38d90_row1_col1 {\n",
       "  background-color: #b40426;\n",
       "  color: #f1f1f1;\n",
       "}\n",
       "#T_38d90_row0_col1, #T_38d90_row1_col0 {\n",
       "  background-color: #3b4cc0;\n",
       "  color: #f1f1f1;\n",
       "}\n",
       "</style>\n",
       "<table id=\"T_38d90\">\n",
       "  <thead>\n",
       "    <tr>\n",
       "      <th class=\"blank level0\" >&nbsp;</th>\n",
       "      <th id=\"T_38d90_level0_col0\" class=\"col_heading level0 col0\" >temp_avg</th>\n",
       "      <th id=\"T_38d90_level0_col1\" class=\"col_heading level0 col1\" >bearing_trees</th>\n",
       "    </tr>\n",
       "  </thead>\n",
       "  <tbody>\n",
       "    <tr>\n",
       "      <th id=\"T_38d90_level0_row0\" class=\"row_heading level0 row0\" >temp_avg</th>\n",
       "      <td id=\"T_38d90_row0_col0\" class=\"data row0 col0\" >1.000000</td>\n",
       "      <td id=\"T_38d90_row0_col1\" class=\"data row0 col1\" >-0.427402</td>\n",
       "    </tr>\n",
       "    <tr>\n",
       "      <th id=\"T_38d90_level0_row1\" class=\"row_heading level0 row1\" >bearing_trees</th>\n",
       "      <td id=\"T_38d90_row1_col0\" class=\"data row1 col0\" >-0.427402</td>\n",
       "      <td id=\"T_38d90_row1_col1\" class=\"data row1 col1\" >1.000000</td>\n",
       "    </tr>\n",
       "  </tbody>\n",
       "</table>\n"
      ],
      "text/plain": [
       "<pandas.io.formats.style.Styler at 0x1ce342e2b10>"
      ]
     },
     "execution_count": 42,
     "metadata": {},
     "output_type": "execute_result"
    }
   ],
   "source": [
    "weather_merged[['temp_avg', 'bearing_trees']].corr(method='pearson').style.background_gradient(cmap='coolwarm', axis=None)"
   ]
  },
  {
   "cell_type": "markdown",
   "id": "a33e1db5",
   "metadata": {},
   "source": [
    "## Reflections\n",
    "\n",
    "Answer each question based on the visualizations that you've generated.\n",
    "\n",
    "Remember, you must justify your answers with proof! Look back to W6D3 for more context."
   ]
  },
  {
   "cell_type": "markdown",
   "id": "fe46532b",
   "metadata": {},
   "source": [
    "What is the relationship between temp_avg and 60kgs_bag? How *strong* is this relationship? Use pearson's correlation coefficient.\n",
    "\n",
    "Answer here"
   ]
  },
  {
   "cell_type": "markdown",
   "id": "ccd4f1e8",
   "metadata": {},
   "source": [
    "What is the relationship between minimum humidity and 60kgs_bag? How *strong* is this relationship? Use pearson's correlation coefficient.\n",
    "\n",
    "Answer here"
   ]
  },
  {
   "cell_type": "markdown",
   "id": "0b500aa4",
   "metadata": {},
   "source": [
    "What is the relationship between rain_max and 60kgs_bag? How *strong* is this relationship? Use pearson's correlation coefficient.\n",
    "\n",
    "Answer here"
   ]
  },
  {
   "cell_type": "markdown",
   "id": "be3dab9c",
   "metadata": {},
   "source": [
    "What is the relationship between average wind speed and 60kgs_bag? How *strong* is this relationship? Use pearson's correlation coefficient.\n",
    "\n",
    "Answer here"
   ]
  },
  {
   "cell_type": "markdown",
   "id": "ee6ea06a",
   "metadata": {},
   "source": [
    "Perform the same bivariate analysis between the mentioned weather columns (temp_avg, hum_min, rain_max, and wind_avg) and a coffee-related column of your choice (bearing_trees, nonbearing_trees, bearing_trees_per_hectare, etc). Which directions do these relationships follow? What are the strengths of these relationships?\n",
    "\n",
    "Answer here"
   ]
  },
  {
   "cell_type": "markdown",
   "id": "18ba1ed2",
   "metadata": {},
   "source": [
    "Which weather factor seems to influence coffee production the most? \n",
    "\n",
    "Answer here"
   ]
  },
  {
   "cell_type": "markdown",
   "id": "95e8c38b",
   "metadata": {},
   "source": [
    "Which data would you collect to continue exploring the impacts of weather and economic forces on coffee production?\n",
    "\n",
    "Answer here"
   ]
  },
  {
   "cell_type": "markdown",
   "id": "0ca6f497",
   "metadata": {},
   "source": [
    "If you were preparing a report to provide coffee farmers, which weather condititions would you state are the most favorable for coffee growing (assuming any exist)?\n",
    "\n",
    "Answer here"
   ]
  }
 ],
 "metadata": {
  "kernelspec": {
   "display_name": "ds",
   "language": "python",
   "name": "python3"
  },
  "language_info": {
   "codemirror_mode": {
    "name": "ipython",
    "version": 3
   },
   "file_extension": ".py",
   "mimetype": "text/x-python",
   "name": "python",
   "nbconvert_exporter": "python",
   "pygments_lexer": "ipython3",
   "version": "3.12.9"
  }
 },
 "nbformat": 4,
 "nbformat_minor": 5
}
